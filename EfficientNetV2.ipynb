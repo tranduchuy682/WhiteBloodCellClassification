{
  "nbformat": 4,
  "nbformat_minor": 0,
  "metadata": {
    "colab": {
      "name": "CodeTestEfficientNetV2.ipynb",
      "provenance": [],
      "collapsed_sections": [
        "uXLQLk2diUIG"
      ]
    },
    "kernelspec": {
      "name": "python3",
      "display_name": "Python 3"
    },
    "language_info": {
      "name": "python"
    },
    "accelerator": "GPU"
  },
  "cells": [
    {
      "cell_type": "code",
      "metadata": {
        "colab": {
          "base_uri": "https://localhost:8080/"
        },
        "id": "cgeLhcnaDLMV",
        "outputId": "a80556f7-442f-4bc0-fd7d-c5e3eab63384"
      },
      "source": [
        "from google.colab import drive\n",
        "drive.mount('/content/drive')"
      ],
      "execution_count": 1,
      "outputs": [
        {
          "output_type": "stream",
          "text": [
            "Mounted at /content/drive\n"
          ],
          "name": "stdout"
        }
      ]
    },
    {
      "cell_type": "markdown",
      "metadata": {
        "id": "O1YIrS7xrHBb"
      },
      "source": [
        "# Libs\n"
      ]
    },
    {
      "cell_type": "code",
      "metadata": {
        "colab": {
          "base_uri": "https://localhost:8080/"
        },
        "id": "PUd1h1y_BaVL",
        "outputId": "e113c43f-d898-4059-d7f7-f84405c73cc2"
      },
      "source": [
        "!pip install imutils"
      ],
      "execution_count": 2,
      "outputs": [
        {
          "output_type": "stream",
          "text": [
            "Requirement already satisfied: imutils in /usr/local/lib/python3.7/dist-packages (0.5.4)\n"
          ],
          "name": "stdout"
        }
      ]
    },
    {
      "cell_type": "code",
      "metadata": {
        "id": "Y6cxwjlHBtxh"
      },
      "source": [
        "import numpy as np\n",
        "import pandas as pd\n",
        "from scipy.spatial import distance as dist\n",
        "import matplotlib.pyplot as plt\n",
        "import os\n",
        "import cv2\n",
        "import seaborn as sns\n",
        "from tqdm import tqdm \n",
        "from sklearn.utils import shuffle\n",
        "#from sklearn import decomposition\n",
        "from sklearn.model_selection import train_test_split\n",
        "from sklearn.metrics import accuracy_score, confusion_matrix, plot_confusion_matrix\n",
        "# import tensorflow as tf\n",
        "import keras\n",
        "#from keras.applications.vgg16 import VGG16 \n",
        "from keras.preprocessing import image\n",
        "#from keras.applications.vgg16 import preprocess_input\n",
        "from keras.models import Sequential, Model \n",
        "#from keras.initializers import he_normal\n",
        "# from keras.layers import Lambda, SeparableConv2D, BatchNormalization, Dropout, MaxPooling2D, Input, Dense, Conv2D, Activation, Flatten \n",
        "from keras.callbacks import EarlyStopping, ReduceLROnPlateau, ModelCheckpoint\n",
        "#from keras.preprocessing.image import ImageDataGenerator\n",
        "import imutils\n",
        "import itertools"
      ],
      "execution_count": 3,
      "outputs": []
    },
    {
      "cell_type": "code",
      "metadata": {
        "id": "nyGILex0B_6t"
      },
      "source": [
        "class_names = ['EOSINOPHIL', 'LYMPHOCYTE', 'MONOCYTE', 'NEUTROPHIL']\n",
        "nb_classes = len(class_names)"
      ],
      "execution_count": 4,
      "outputs": []
    },
    {
      "cell_type": "markdown",
      "metadata": {
        "id": "aiyjbXKoJvz-"
      },
      "source": [
        "# Load Image\n"
      ]
    },
    {
      "cell_type": "code",
      "metadata": {
        "id": "zlabUXQt12EY"
      },
      "source": [
        "def findEdges(image):\n",
        "    # find edges in image\n",
        "    gray = cv2.GaussianBlur(image, (1, 1), 0)\n",
        "    edged = cv2.Canny(gray, 100, 400)\n",
        "    edged = cv2.dilate(edged, None, iterations=1)\n",
        "    edged = cv2.erode(edged, None, iterations=1)\n",
        "    return edged"
      ],
      "execution_count": 5,
      "outputs": []
    },
    {
      "cell_type": "code",
      "metadata": {
        "id": "78hEVLTgB7FI"
      },
      "source": [
        "def getBoxes(contours, orig):\n",
        "    boxes = []\n",
        "    centers = []\n",
        "    for contour in contours:\n",
        "        box = cv2.minAreaRect(contour)\n",
        "        box = cv2.cv.BoxPoints(box) if imutils.is_cv2() else cv2.boxPoints(box)\n",
        "        box = np.array(box, dtype=\"int\")\n",
        "        (tl, tr, br, bl) = box\n",
        "        if (dist.euclidean(tl, bl)) > 0 and (dist.euclidean(tl, tr)) > 0:\n",
        "            boxes.append(box)\n",
        "    return boxes"
      ],
      "execution_count": 6,
      "outputs": []
    },
    {
      "cell_type": "code",
      "metadata": {
        "id": "av0VWaH-B4b2"
      },
      "source": [
        "def getImgContours(edged):\n",
        "    contours = cv2.findContours(edged.copy(), cv2.RETR_EXTERNAL, cv2.CHAIN_APPROX_SIMPLE)\n",
        "    contours = imutils.grab_contours(contours)\n",
        "    contours = sorted(contours, key=lambda x: cv2.contourArea(x))\n",
        "    return contours"
      ],
      "execution_count": 7,
      "outputs": []
    },
    {
      "cell_type": "code",
      "metadata": {
        "id": "AEmFUr24wiEF"
      },
      "source": [
        "IMAGE_SIZE = 128\n",
        "EPOCHS = 50"
      ],
      "execution_count": 8,
      "outputs": []
    },
    {
      "cell_type": "code",
      "metadata": {
        "id": "selB3yS1CDK9",
        "colab": {
          "base_uri": "https://localhost:8080/"
        },
        "outputId": "397c9d72-d3a1-4abb-f801-9ec0d21be4a5"
      },
      "source": [
        "\n",
        "datasets = ['/content/drive/MyDrive/BME2/dataset2-master/images/TRAIN', '/content/drive/MyDrive/BME2/dataset2-master/images/TEST']\n",
        "images = []\n",
        "labels = []\n",
        "  #lặp qua các folder trong thư mục datasets\n",
        "count =0\n",
        "for dataset in datasets:\n",
        "\n",
        "    for folder in os.listdir(dataset):\n",
        "\n",
        "        if folder in ['EOSINOPHIL']: label = 0\n",
        "        elif folder in ['LYMPHOCYTE']: label = 1\n",
        "        elif folder in ['MONOCYTE']: label = 2\n",
        "        elif folder in ['NEUTROPHIL']: label = 3\n",
        "\n",
        "        for file in tqdm(os.listdir(os.path.join(dataset, folder))):\n",
        "\n",
        "            img_path = os.path.join(os.path.join(dataset, folder), file)\n",
        "\n",
        "            # Open \n",
        "            image = cv2.imread(img_path)\n",
        "            image = cv2.cvtColor(image, cv2.COLOR_BGR2RGB)\n",
        "            \n",
        "            # add padding to the image to better detect cell at the edge\n",
        "            image = cv2.copyMakeBorder(image,10,10,10,10,cv2.BORDER_CONSTANT,value=[198, 203, 208])\n",
        "            \n",
        "            #thresholding the image to get the target cell\n",
        "            image1 = cv2.inRange(image,(80, 80, 180),(180, 170, 245))\n",
        "            \n",
        "            # openning errosion then dilation\n",
        "            kernel = np.ones((3, 3), np.uint8)\n",
        "            kernel1 = np.ones((5, 5), np.uint8)\n",
        "            img_erosion = cv2.erode(image1, kernel, iterations=2)\n",
        "            image1 = cv2.dilate(img_erosion, kernel1, iterations=5)\n",
        "            \n",
        "            #detecting the blood cell\n",
        "            edgedImage = findEdges(image1)\n",
        "            edgedContours = getImgContours(edgedImage)\n",
        "            edgedBoxes =  getBoxes(edgedContours, image.copy())\n",
        "            if len(edgedBoxes)==0:\n",
        "                count +=1\n",
        "                continue\n",
        "            # get the large box and get its cordinate\n",
        "            last = edgedBoxes[-1]\n",
        "            max_x = int(max(last[:,0]))\n",
        "            min_x = int( min(last[:,0]))\n",
        "            max_y = int(max(last[:,1]))\n",
        "            min_y = int(min(last[:,1]))\n",
        "            \n",
        "            # draw the contour and fill it \n",
        "            mask = np.zeros_like(image)\n",
        "            cv2.drawContours(mask, edgedContours, len(edgedContours)-1, (255,255,255), -1) \n",
        "            \n",
        "            # any pixel but the pixels inside the contour is zero\n",
        "            image[mask==0] = 0\n",
        "            \n",
        "            # extract th blood cell\n",
        "            image = image[min_y:max_y, min_x:max_x]\n",
        "\n",
        "            if (np.size(image)==0):\n",
        "                count +=1\n",
        "                continue\n",
        "            # resize th image\n",
        "            image = cv2.resize(image, (IMAGE_SIZE,IMAGE_SIZE))\n",
        "\n",
        "            # Append the image and its corresponding label to the output\n",
        "            images.append(image)\n",
        "            labels.append(label)\n",
        "\n",
        "images = np.array(images, dtype = 'float32')\n",
        "labels = np.array(labels, dtype = 'int32')\n",
        "\n",
        "# return images, labels\n"
      ],
      "execution_count": 9,
      "outputs": [
        {
          "output_type": "stream",
          "text": [
            "100%|██████████| 2499/2499 [15:04<00:00,  2.76it/s]\n",
            "100%|██████████| 2478/2478 [14:37<00:00,  2.82it/s]\n",
            "100%|██████████| 2497/2497 [13:56<00:00,  2.98it/s]\n",
            "100%|██████████| 2483/2483 [14:10<00:00,  2.92it/s]\n",
            "100%|██████████| 624/624 [03:39<00:00,  2.85it/s]\n",
            "100%|██████████| 623/623 [03:41<00:00,  2.82it/s]\n",
            "100%|██████████| 620/620 [03:46<00:00,  2.74it/s]\n",
            "100%|██████████| 620/620 [03:51<00:00,  2.67it/s]\n"
          ],
          "name": "stderr"
        }
      ]
    },
    {
      "cell_type": "code",
      "metadata": {
        "id": "55R8B3ez_uET",
        "colab": {
          "base_uri": "https://localhost:8080/"
        },
        "outputId": "d53c2577-99de-4c3d-92b8-9c139e29cc31"
      },
      "source": [
        "print(len(images))\n",
        "print(len(labels))"
      ],
      "execution_count": 10,
      "outputs": [
        {
          "output_type": "stream",
          "text": [
            "12146\n",
            "12146\n"
          ],
          "name": "stdout"
        }
      ]
    },
    {
      "cell_type": "code",
      "metadata": {
        "id": "BT_X3EqwCGAJ"
      },
      "source": [
        "images, labels = shuffle(images, labels, random_state=10)\n",
        "\n",
        "train_images, test_images, train_labels, test_labels = train_test_split(images, labels, test_size = 0.2)\n",
        "test_images, val_images, test_labels, val_labels = train_test_split(test_images, test_labels, test_size = 0.5)"
      ],
      "execution_count": 11,
      "outputs": []
    },
    {
      "cell_type": "code",
      "metadata": {
        "id": "EjKoPrJo63Vi",
        "colab": {
          "base_uri": "https://localhost:8080/"
        },
        "outputId": "900dea5f-99d3-44b6-8494-a02b725670b6"
      },
      "source": [
        "print(len(train_images))\n",
        "print(len(train_labels))\n",
        "print(len(val_images))\n",
        "print(len(val_labels))\n",
        "print(len(test_images))\n",
        "print(len(test_labels))"
      ],
      "execution_count": 12,
      "outputs": [
        {
          "output_type": "stream",
          "text": [
            "9716\n",
            "9716\n",
            "1215\n",
            "1215\n",
            "1215\n",
            "1215\n"
          ],
          "name": "stdout"
        }
      ]
    },
    {
      "cell_type": "code",
      "metadata": {
        "id": "ew10yySbCItt",
        "colab": {
          "base_uri": "https://localhost:8080/"
        },
        "outputId": "309c9a9c-9a64-4ee8-b199-3947eed4c994"
      },
      "source": [
        "\n",
        "print(\"Training images: {}\".format(train_images.shape))\n",
        "print(\"Training labels: {}\".format(train_labels.shape))\n",
        "print(\"Validation images: {}\".format(val_images.shape))\n",
        "print(\"Validation labels: {}\".format(val_labels.shape))\n",
        "print(\"Test images: {}\".format(test_images.shape))\n",
        "print(\"Test labels: {}\".format(test_labels.shape))"
      ],
      "execution_count": 13,
      "outputs": [
        {
          "output_type": "stream",
          "text": [
            "Training images: (9716, 128, 128, 3)\n",
            "Training labels: (9716,)\n",
            "Validation images: (1215, 128, 128, 3)\n",
            "Validation labels: (1215,)\n",
            "Test images: (1215, 128, 128, 3)\n",
            "Test labels: (1215,)\n"
          ],
          "name": "stdout"
        }
      ]
    },
    {
      "cell_type": "code",
      "metadata": {
        "colab": {
          "base_uri": "https://localhost:8080/",
          "height": 314
        },
        "id": "Y4LMlziEcY4Z",
        "outputId": "8fa985b5-c486-4a05-be28-8f74d664ec12"
      },
      "source": [
        "#hiển thị train image  \n",
        "print(len(train_images))\n",
        "index = np.random.randint(train_images.shape[0])\n",
        "plt.figure()\n",
        "plt.imshow(train_images[index])\n",
        "plt.title('Image #{}: '.format(index) + class_names[train_labels[index]])\n",
        "plt.show()\n",
        "    "
      ],
      "execution_count": 14,
      "outputs": [
        {
          "output_type": "stream",
          "text": [
            "Clipping input data to the valid range for imshow with RGB data ([0..1] for floats or [0..255] for integers).\n"
          ],
          "name": "stderr"
        },
        {
          "output_type": "stream",
          "text": [
            "9716\n"
          ],
          "name": "stdout"
        },
        {
          "output_type": "display_data",
          "data": {
            "image/png": "[encoded data removed]",
            "text/plain": [
              "<Figure size 432x288 with 1 Axes>"
            ]
          },
          "metadata": {
            "tags": [],
            "needs_background": "light"
          }
        }
      ]
    },
    {
      "cell_type": "code",
      "metadata": {
        "colab": {
          "base_uri": "https://localhost:8080/",
          "height": 266
        },
        "id": "I5mcWrGWFVJT",
        "outputId": "c0e12761-3df4-497b-d61a-f5bd9fec312c"
      },
      "source": [
        "# Ground truth\n",
        "# Hiển thị ảnh từ train data\n",
        "plt.subplot(121)\n",
        "index = np.random.randint(train_images.shape[0])\n",
        "plt.imshow(train_images[index,:,:], cmap='gray')\n",
        "plt.title(\"Ground Truth : {}\".format(train_labels[index]))\n",
        "\n",
        "# Hiển thị ảnh từ test data\n",
        "plt.subplot(122)\n",
        "index = np.random.randint(test_images.shape[0])\n",
        "plt.imshow(test_images[index,:,:], cmap='gray')\n",
        "plt.title(\"Ground Truth : {}\".format(test_labels[index]))\n",
        "\n"
      ],
      "execution_count": 15,
      "outputs": [
        {
          "output_type": "stream",
          "text": [
            "Clipping input data to the valid range for imshow with RGB data ([0..1] for floats or [0..255] for integers).\n",
            "Clipping input data to the valid range for imshow with RGB data ([0..1] for floats or [0..255] for integers).\n"
          ],
          "name": "stderr"
        },
        {
          "output_type": "execute_result",
          "data": {
            "text/plain": [
              "Text(0.5, 1.0, 'Ground Truth : 0')"
            ]
          },
          "metadata": {
            "tags": []
          },
          "execution_count": 15
        },
        {
          "output_type": "display_data",
          "data": {
            "image/png": "[encoded data removed]",
            "text/plain": [
              "<Figure size 432x288 with 2 Axes>"
            ]
          },
          "metadata": {
            "tags": [],
            "needs_background": "light"
          }
        }
      ]
    },
    {
      "cell_type": "code",
      "metadata": {
        "id": "KmIBxUMjCLVb",
        "colab": {
          "base_uri": "https://localhost:8080/",
          "height": 320
        },
        "outputId": "14ad5f9e-8195-454d-848c-3bc400642f97"
      },
      "source": [
        "_, train_counts = np.unique(train_labels, return_counts = True)\n",
        "_, val_counts = np.unique(val_labels, return_counts = True)\n",
        "_, test_counts = np.unique(test_labels, return_counts = True)\n",
        "\n",
        "pd.DataFrame({'train': train_counts, \"val\": val_counts, \"test\": test_counts}, index = class_names).plot.bar()\n",
        "\n",
        "plt.show()"
      ],
      "execution_count": 16,
      "outputs": [
        {
          "output_type": "display_data",
          "data": {
            "image/png": "[encoded data removed]",
            "text/plain": [
              "<Figure size 432x288 with 1 Axes>"
            ]
          },
          "metadata": {
            "tags": [],
            "needs_background": "light"
          }
        }
      ]
    },
    {
      "cell_type": "code",
      "metadata": {
        "id": "4o_c4FymCRZW",
        "colab": {
          "base_uri": "https://localhost:8080/",
          "height": 264
        },
        "outputId": "31d1ff93-d370-46c6-9cc1-bc772b816627"
      },
      "source": [
        "plt.pie(train_counts,\n",
        "        explode=(0, 0, 0, 0) , \n",
        "        labels=class_names,\n",
        "        autopct='%1.1f%%')\n",
        "plt.axis('equal')\n",
        "plt.title('Proportion of each observed category')\n",
        "plt.show()"
      ],
      "execution_count": 17,
      "outputs": [
        {
          "output_type": "display_data",
          "data": {
            "image/png": "[encoded data removed]",
            "text/plain": [
              "<Figure size 432x288 with 1 Axes>"
            ]
          },
          "metadata": {
            "tags": []
          }
        }
      ]
    },
    {
      "cell_type": "code",
      "metadata": {
        "colab": {
          "base_uri": "https://localhost:8080/",
          "height": 314
        },
        "id": "QQHW_3yMH-gb",
        "outputId": "90b4cc3b-927a-4e68-b98c-2fab0d94ea39"
      },
      "source": [
        "def display_random_image (class_names, images, labels):\n",
        "    print(len(images))\n",
        "    index = np.random.randint(images.shape[0])\n",
        "    plt.figure()\n",
        "    plt.imshow(images[index])\n",
        "    plt.title('Image #{}: '.format(index) + class_names[labels[index]])\n",
        "    plt.show()\n",
        "    \n",
        "display_random_image (class_names, train_images, train_labels)"
      ],
      "execution_count": 18,
      "outputs": [
        {
          "output_type": "stream",
          "text": [
            "Clipping input data to the valid range for imshow with RGB data ([0..1] for floats or [0..255] for integers).\n"
          ],
          "name": "stderr"
        },
        {
          "output_type": "stream",
          "text": [
            "9716\n"
          ],
          "name": "stdout"
        },
        {
          "output_type": "display_data",
          "data": {
            "image/png": "[encoded data removed]",
            "text/plain": [
              "<Figure size 432x288 with 1 Axes>"
            ]
          },
          "metadata": {
            "tags": [],
            "needs_background": "light"
          }
        }
      ]
    },
    {
      "cell_type": "code",
      "metadata": {
        "colab": {
          "base_uri": "https://localhost:8080/",
          "height": 1000
        },
        "id": "Q1gTC_IpH6yP",
        "outputId": "e5aa9f40-7767-4a30-f7cc-ca5ac38704b6"
      },
      "source": [
        "def display_examples(class_names, images, labels):\n",
        "    fig = plt.figure(figsize = (10,10))\n",
        "    fig.suptitle(\"Examples of images in the dataset\", fontsize=16)\n",
        "    for i in range(25):\n",
        "        plt.subplot(5,5,i+1)\n",
        "        plt.xticks([])\n",
        "        plt.yticks([])\n",
        "        plt.grid(False)\n",
        "        plt.imshow(images[i], cmap=plt.cm.binary)\n",
        "        plt.xlabel(class_names[labels[i]])\n",
        "    plt.show()\n",
        "    \n",
        "display_examples(class_names, train_images, train_labels)"
      ],
      "execution_count": 19,
      "outputs": [
        {
          "output_type": "stream",
          "text": [
            "Clipping input data to the valid range for imshow with RGB data ([0..1] for floats or [0..255] for integers).\n",
            "Clipping input data to the valid range for imshow with RGB data ([0..1] for floats or [0..255] for integers).\n",
            "Clipping input data to the valid range for imshow with RGB data ([0..1] for floats or [0..255] for integers).\n",
            "Clipping input data to the valid range for imshow with RGB data ([0..1] for floats or [0..255] for integers).\n",
            "Clipping input data to the valid range for imshow with RGB data ([0..1] for floats or [0..255] for integers).\n",
            "Clipping input data to the valid range for imshow with RGB data ([0..1] for floats or [0..255] for integers).\n",
            "Clipping input data to the valid range for imshow with RGB data ([0..1] for floats or [0..255] for integers).\n",
            "Clipping input data to the valid range for imshow with RGB data ([0..1] for floats or [0..255] for integers).\n",
            "Clipping input data to the valid range for imshow with RGB data ([0..1] for floats or [0..255] for integers).\n",
            "Clipping input data to the valid range for imshow with RGB data ([0..1] for floats or [0..255] for integers).\n",
            "Clipping input data to the valid range for imshow with RGB data ([0..1] for floats or [0..255] for integers).\n",
            "Clipping input data to the valid range for imshow with RGB data ([0..1] for floats or [0..255] for integers).\n",
            "Clipping input data to the valid range for imshow with RGB data ([0..1] for floats or [0..255] for integers).\n",
            "Clipping input data to the valid range for imshow with RGB data ([0..1] for floats or [0..255] for integers).\n",
            "Clipping input data to the valid range for imshow with RGB data ([0..1] for floats or [0..255] for integers).\n",
            "Clipping input data to the valid range for imshow with RGB data ([0..1] for floats or [0..255] for integers).\n",
            "Clipping input data to the valid range for imshow with RGB data ([0..1] for floats or [0..255] for integers).\n",
            "Clipping input data to the valid range for imshow with RGB data ([0..1] for floats or [0..255] for integers).\n",
            "Clipping input data to the valid range for imshow with RGB data ([0..1] for floats or [0..255] for integers).\n",
            "Clipping input data to the valid range for imshow with RGB data ([0..1] for floats or [0..255] for integers).\n",
            "Clipping input data to the valid range for imshow with RGB data ([0..1] for floats or [0..255] for integers).\n",
            "Clipping input data to the valid range for imshow with RGB data ([0..1] for floats or [0..255] for integers).\n",
            "Clipping input data to the valid range for imshow with RGB data ([0..1] for floats or [0..255] for integers).\n",
            "Clipping input data to the valid range for imshow with RGB data ([0..1] for floats or [0..255] for integers).\n",
            "Clipping input data to the valid range for imshow with RGB data ([0..1] for floats or [0..255] for integers).\n"
          ],
          "name": "stderr"
        },
        {
          "output_type": "display_data",
          "data": {
            "image/png": "[encoded data removed]",
            "text/plain": [
              "<Figure size 720x720 with 25 Axes>"
            ]
          },
          "metadata": {
            "tags": []
          }
        }
      ]
    },
    {
      "cell_type": "markdown",
      "metadata": {
        "id": "gkxGZHqQjJHZ"
      },
      "source": [
        "# EfficientNetV2\n"
      ]
    },
    {
      "cell_type": "code",
      "metadata": {
        "id": "F_W3s1NzCTSd"
      },
      "source": [
        "#Normalization\n",
        "train_images = train_images / 255.0 \n",
        "val_images = val_images / 255.0\n",
        "test_images = test_images / 255.0"
      ],
      "execution_count": 22,
      "outputs": []
    },
    {
      "cell_type": "code",
      "metadata": {
        "id": "WKvORLxgjINH"
      },
      "source": [
        "import tensorflow as tf\n",
        "from tensorflow import keras\n",
        "from tensorflow.keras import backend as K\n",
        "from tensorflow.keras.models import Model\n",
        "from tensorflow.keras.layers import (\n",
        "    Activation,\n",
        "    Add,\n",
        "    BatchNormalization,\n",
        "    Conv2D,\n",
        "    Dense,\n",
        "    DepthwiseConv2D,\n",
        "    Dropout,\n",
        "    GlobalAveragePooling2D,\n",
        "    Input,\n",
        "    PReLU,\n",
        "    Reshape,\n",
        "    Multiply,\n",
        ")"
      ],
      "execution_count": 23,
      "outputs": []
    },
    {
      "cell_type": "code",
      "metadata": {
        "id": "qHaE3aHijIL-"
      },
      "source": [
        "BATCH_NORM_DECAY = 0.9\n",
        "BATCH_NORM_EPSILON = 0.001\n",
        "CONV_KERNEL_INITIALIZER = keras.initializers.VarianceScaling(scale=2.0, mode=\"fan_out\", distribution=\"truncated_normal\")\n",
        "# CONV_KERNEL_INITIALIZER = 'glorot_uniform'\n",
        "\n",
        "BLOCK_CONFIGS = {\n",
        "    \"b0\": {\n",
        "        \"first_conv_filter\": 32,\n",
        "        \"expands\": [1, 4, 4, 4, 6, 6],\n",
        "        \"out_channels\": [16, 32, 48, 96, 112, 192],\n",
        "        \"depthes\": [1, 2, 2, 3, 5, 8],\n",
        "        \"strides\": [1, 2, 2, 2, 1, 2],\n",
        "        \"use_ses\": [0, 0, 0, 1, 1, 1],\n",
        "    },\n",
        "    \"b1\": {\n",
        "        \"first_conv_filter\": 32,\n",
        "        \"expands\": [1, 4, 4, 4, 6, 6],\n",
        "        \"out_channels\": [16, 32, 48, 96, 112, 192],\n",
        "        \"depthes\": [2, 3, 3, 4, 6, 9],\n",
        "        \"strides\": [1, 2, 2, 2, 1, 2],\n",
        "        \"use_ses\": [0, 0, 0, 1, 1, 1],\n",
        "    },\n",
        "    \"b2\": {\n",
        "        \"first_conv_filter\": 32,\n",
        "        \"output_conv_filter\": 1408,\n",
        "        \"expands\": [1, 4, 4, 4, 6, 6],\n",
        "        \"out_channels\": [16, 32, 56, 104, 120, 208],\n",
        "        \"depthes\": [2, 3, 3, 4, 6, 10],\n",
        "        \"strides\": [1, 2, 2, 2, 1, 2],\n",
        "        \"use_ses\": [0, 0, 0, 1, 1, 1],\n",
        "    },\n",
        "    \"b3\": {\n",
        "        \"first_conv_filter\": 40,\n",
        "        \"output_conv_filter\": 1536,\n",
        "        \"expands\": [1, 4, 4, 4, 6, 6],\n",
        "        \"out_channels\": [16, 40, 56, 112, 136, 232],\n",
        "        \"depthes\": [2, 3, 3, 5, 7, 12],\n",
        "        \"strides\": [1, 2, 2, 2, 1, 2],\n",
        "        \"use_ses\": [0, 0, 0, 1, 1, 1],\n",
        "    },\n",
        "    \"s\": {\n",
        "        \"first_conv_filter\": 24,\n",
        "        \"output_conv_filter\": 1280,\n",
        "        \"expands\": [1, 4, 4, 4, 6, 6],\n",
        "        \"out_channels\": [24, 48, 64, 128, 160, 256],\n",
        "        \"depthes\": [2, 4, 4, 6, 9, 15],\n",
        "        \"strides\": [1, 2, 2, 2, 1, 2],\n",
        "        \"use_ses\": [0, 0, 0, 1, 1, 1],\n",
        "    },\n",
        "    \"m\": {\n",
        "        \"first_conv_filter\": 24,\n",
        "        \"output_conv_filter\": 1280,\n",
        "        \"expands\": [1, 4, 4, 4, 6, 6, 6],\n",
        "        \"out_channels\": [24, 48, 80, 160, 176, 304, 512],\n",
        "        \"depthes\": [3, 5, 5, 7, 14, 18, 5],\n",
        "        \"strides\": [1, 2, 2, 2, 1, 2, 1],\n",
        "        \"use_ses\": [0, 0, 0, 1, 1, 1, 1],\n",
        "    },\n",
        "    \"l\": {\n",
        "        \"first_conv_filter\": 32,\n",
        "        \"output_conv_filter\": 1280,\n",
        "        \"expands\": [1, 4, 4, 4, 6, 6, 6],\n",
        "        \"out_channels\": [32, 64, 96, 192, 224, 384, 640],\n",
        "        \"depthes\": [4, 7, 7, 10, 19, 25, 7],\n",
        "        \"strides\": [1, 2, 2, 2, 1, 2, 1],\n",
        "        \"use_ses\": [0, 0, 0, 1, 1, 1, 1],\n",
        "    },\n",
        "}"
      ],
      "execution_count": 24,
      "outputs": []
    },
    {
      "cell_type": "code",
      "metadata": {
        "id": "adznnDGLnFGA"
      },
      "source": [
        "def _make_divisible(v, divisor=4, min_value=None):\n",
        "    \"\"\"\n",
        "    This function is taken from the original tf repo.\n",
        "    It ensures that all layers have a channel number that is divisible by 8\n",
        "    It can be seen here:\n",
        "    https://github.com/tensorflow/models/blob/master/research/slim/nets/mobilenet/mobilenet.py\n",
        "    \"\"\"\n",
        "    if min_value is None:\n",
        "        min_value = divisor\n",
        "    new_v = max(min_value, int(v + divisor / 2) // divisor * divisor)\n",
        "    # Make sure that round down does not go down by more than 10%.\n",
        "    if new_v < 0.9 * v:\n",
        "        new_v += divisor\n",
        "    return new_v\n",
        "\n",
        "\n",
        "def conv2d_no_bias(inputs, filters, kernel_size, strides=1, padding=\"VALID\"):\n",
        "    return Conv2D(\n",
        "        filters, kernel_size, strides=strides, padding=padding, use_bias=False, kernel_initializer=CONV_KERNEL_INITIALIZER\n",
        "    )(inputs)\n",
        "\n",
        "\n",
        "def batchnorm_with_activation(inputs, activation=\"swish\"):\n",
        "    \"\"\"Performs a batch normalization followed by an activation. \"\"\"\n",
        "    bn_axis = 1 if K.image_data_format() == \"channels_first\" else -1\n",
        "    nn = BatchNormalization(\n",
        "        axis=bn_axis,\n",
        "        momentum=BATCH_NORM_DECAY,\n",
        "        epsilon=BATCH_NORM_EPSILON,\n",
        "    )(inputs)\n",
        "    if activation:\n",
        "        nn = Activation(activation=activation)(nn)\n",
        "        # nn = PReLU(shared_axes=[1, 2], alpha_initializer=tf.initializers.Constant(0.25))(nn)\n",
        "    return nn\n",
        "\n",
        "\n",
        "def se_module(inputs, se_ratio=4):\n",
        "    channel_axis = 1 if K.image_data_format() == \"channels_first\" else -1\n",
        "    h_axis, w_axis = [2, 3] if K.image_data_format() == \"channels_first\" else [1, 2]\n",
        "\n",
        "    filters = inputs.shape[channel_axis]\n",
        "    # reduction = _make_divisible(filters // se_ratio, 8)\n",
        "    reduction = filters // se_ratio\n",
        "    # se = GlobalAveragePooling2D()(inputs)\n",
        "    # se = Reshape((1, 1, filters))(se)\n",
        "    se = tf.reduce_mean(inputs, [h_axis, w_axis], keepdims=True)\n",
        "    se = Conv2D(reduction, kernel_size=1, use_bias=True, kernel_initializer=CONV_KERNEL_INITIALIZER)(se)\n",
        "    # se = PReLU(shared_axes=[1, 2])(se)\n",
        "    se = Activation(\"swish\")(se)\n",
        "    se = Conv2D(filters, kernel_size=1, use_bias=True, kernel_initializer=CONV_KERNEL_INITIALIZER)(se)\n",
        "    se = Activation(\"sigmoid\")(se)\n",
        "    return Multiply()([inputs, se])\n",
        "\n",
        "\n",
        "def MBConv(inputs, output_channel, stride, expand_ratio, shortcut, survival=None, use_se=0, is_fused=False):\n",
        "    channel_axis = 1 if K.image_data_format() == \"channels_first\" else -1\n",
        "    input_channel = inputs.shape[channel_axis]\n",
        "\n",
        "    if is_fused and expand_ratio != 1:\n",
        "        nn = conv2d_no_bias(inputs, input_channel * expand_ratio, (3, 3), strides=stride, padding=\"same\")\n",
        "        nn = batchnorm_with_activation(nn)\n",
        "    elif expand_ratio != 1:\n",
        "        nn = conv2d_no_bias(inputs, input_channel * expand_ratio, (1, 1), strides=(1, 1), padding=\"same\")\n",
        "        nn = batchnorm_with_activation(nn)\n",
        "    else:\n",
        "        nn = inputs\n",
        "\n",
        "    if not is_fused:\n",
        "        nn = DepthwiseConv2D(\n",
        "            (3, 3), padding=\"same\", strides=stride, use_bias=False, depthwise_initializer=CONV_KERNEL_INITIALIZER\n",
        "        )(nn)\n",
        "        nn = batchnorm_with_activation(nn)\n",
        "\n",
        "    if use_se:\n",
        "        nn = se_module(nn, se_ratio=4 * expand_ratio)\n",
        "\n",
        "    # pw-linear\n",
        "    if is_fused and expand_ratio == 1:\n",
        "        nn = conv2d_no_bias(nn, output_channel, (3, 3), strides=stride, padding=\"same\")\n",
        "        nn = batchnorm_with_activation(nn)\n",
        "    else:\n",
        "        nn = conv2d_no_bias(nn, output_channel, (1, 1), strides=(1, 1), padding=\"same\")\n",
        "        nn = batchnorm_with_activation(nn, activation=None)\n",
        "\n",
        "    if shortcut:\n",
        "        if survival is not None and survival < 1:\n",
        "            from tensorflow_addons.layers import StochasticDepth\n",
        "\n",
        "            return StochasticDepth(float(survival))([inputs, nn])\n",
        "        else:\n",
        "            return Add()([inputs, nn])\n",
        "    else:\n",
        "        return nn"
      ],
      "execution_count": 25,
      "outputs": []
    },
    {
      "cell_type": "code",
      "metadata": {
        "id": "QzNt4EKthwJA"
      },
      "source": [
        "def EfficientNetV2(\n",
        "    model_type,\n",
        "    input_shape,\n",
        "    classes,\n",
        "    dropout=0.2,\n",
        "    first_strides=2,\n",
        "    survivals=None,\n",
        "    classifier_activation=\"softmax\",\n",
        "    name=\"EfficientNetV2\",\n",
        "    ):\n",
        "    \"\"\"\n",
        "    model_type: is the pre-defined model, value in [\"s\", \"m\", \"l\", \"b0\", \"b1\", \"b2\", \"b3\"].\n",
        "    first_strides: is used in the first Conv2D layer.\n",
        "    survivals: is used for [Deep Networks with Stochastic Depth](https://arxiv.org/abs/1603.09382).\n",
        "        Can be a constant value like `0.5` or `0.8`,\n",
        "        or a tuple value like `(1, 0.8)` indicates the survival probability linearly changes from `1 --> 0.8` for `top --> bottom` layers.\n",
        "        A higher value means a higher probability will keep the conv branch.\n",
        "        or `None` to disable.\n",
        "    \"\"\"\n",
        "    blocks_config = BLOCK_CONFIGS.get(model_type.lower(), BLOCK_CONFIGS[\"s\"])\n",
        "    expands = blocks_config[\"expands\"]\n",
        "    out_channels = blocks_config[\"out_channels\"]\n",
        "    depthes = blocks_config[\"depthes\"]\n",
        "    strides = blocks_config[\"strides\"]\n",
        "    use_ses = blocks_config[\"use_ses\"]\n",
        "    first_conv_filter = blocks_config.get(\"first_conv_filter\", out_channels[0])\n",
        "    output_conv_filter = blocks_config.get(\"output_conv_filter\", 1280)\n",
        "\n",
        "    inputs = Input(shape=input_shape)\n",
        "    out_channel = _make_divisible(first_conv_filter, 8)\n",
        "    nn = conv2d_no_bias(inputs, out_channel, (3, 3), strides=first_strides, padding=\"same\")\n",
        "    nn = batchnorm_with_activation(nn)\n",
        "\n",
        "    # StochasticDepth survival_probability values\n",
        "    total_layers = sum(depthes)\n",
        "    if isinstance(survivals, float):\n",
        "        survivals = [survivals] * total_layers\n",
        "    elif isinstance(survivals, (list, tuple)) and len(survivals) == 2:\n",
        "        start, end = survivals\n",
        "        survivals = [start - (1 - end) * float(ii) / total_layers for ii in range(total_layers)]\n",
        "    else:\n",
        "        survivals = [None] * total_layers\n",
        "    survivals = [survivals[int(sum(depthes[:id])) : sum(depthes[: id + 1])] for id in range(len(depthes))]\n",
        "\n",
        "    pre_out = out_channel\n",
        "    for expand, out_channel, depth, survival, stride, se in zip(expands, out_channels, depthes, survivals, strides, use_ses):\n",
        "        out = _make_divisible(out_channel, 8)\n",
        "        is_fused = True if se == 0 else False\n",
        "        for ii in range(depth):\n",
        "            stride = stride if ii == 0 else 1\n",
        "            shortcut = True if out == pre_out and stride == 1 else False\n",
        "            nn = MBConv(nn, out, stride, expand, shortcut, survival[ii], se, is_fused)\n",
        "            pre_out = out\n",
        "\n",
        "    output_conv_filter = _make_divisible(output_conv_filter, 8)\n",
        "    nn = conv2d_no_bias(nn, output_conv_filter, (1, 1), strides=(1, 1), padding=\"valid\")\n",
        "    nn = batchnorm_with_activation(nn)\n",
        "\n",
        "    if classes > 0:\n",
        "        nn = GlobalAveragePooling2D(name=\"avg_pool\")(nn)\n",
        "        if dropout > 0 and dropout < 1:\n",
        "            nn = Dropout(dropout)(nn)\n",
        "        nn = Dense(classes, activation=classifier_activation, name=\"predictions\")(nn)\n",
        "    return Model(inputs=inputs, outputs=nn, name=name)"
      ],
      "execution_count": 26,
      "outputs": []
    },
    {
      "cell_type": "code",
      "metadata": {
        "colab": {
          "base_uri": "https://localhost:8080/"
        },
        "id": "GsX57sYQpyi-",
        "outputId": "8803df70-a704-4be5-d478-6fa41ffa96ff"
      },
      "source": [
        "model = EfficientNetV2(\n",
        "    model_type=\"b3\",\n",
        "    input_shape=(IMAGE_SIZE, IMAGE_SIZE, 3),\n",
        "    classes=4,\n",
        "    dropout=0.2,\n",
        "    first_strides=2,\n",
        "    survivals=None,\n",
        "    classifier_activation=\"softmax\",\n",
        "    name=\"EfficientNetV2\",\n",
        ")\n",
        "model.summary()"
      ],
      "execution_count": 27,
      "outputs": [
        {
          "output_type": "stream",
          "text": [
            "Model: \"EfficientNetV2\"\n",
            "__________________________________________________________________________________________________\n",
            "Layer (type)                    Output Shape         Param #     Connected to                     \n",
            "==================================================================================================\n",
            "input_1 (InputLayer)            [(None, 128, 128, 3) 0                                            \n",
            "__________________________________________________________________________________________________\n",
            "conv2d (Conv2D)                 (None, 64, 64, 40)   1080        input_1[0][0]                    \n",
            "__________________________________________________________________________________________________\n",
            "batch_normalization (BatchNorma (None, 64, 64, 40)   160         conv2d[0][0]                     \n",
            "__________________________________________________________________________________________________\n",
            "activation (Activation)         (None, 64, 64, 40)   0           batch_normalization[0][0]        \n",
            "__________________________________________________________________________________________________\n",
            "conv2d_1 (Conv2D)               (None, 64, 64, 16)   5760        activation[0][0]                 \n",
            "__________________________________________________________________________________________________\n",
            "batch_normalization_1 (BatchNor (None, 64, 64, 16)   64          conv2d_1[0][0]                   \n",
            "__________________________________________________________________________________________________\n",
            "activation_1 (Activation)       (None, 64, 64, 16)   0           batch_normalization_1[0][0]      \n",
            "__________________________________________________________________________________________________\n",
            "conv2d_2 (Conv2D)               (None, 64, 64, 16)   2304        activation_1[0][0]               \n",
            "__________________________________________________________________________________________________\n",
            "batch_normalization_2 (BatchNor (None, 64, 64, 16)   64          conv2d_2[0][0]                   \n",
            "__________________________________________________________________________________________________\n",
            "activation_2 (Activation)       (None, 64, 64, 16)   0           batch_normalization_2[0][0]      \n",
            "__________________________________________________________________________________________________\n",
            "add (Add)                       (None, 64, 64, 16)   0           activation_1[0][0]               \n",
            "                                                                 activation_2[0][0]               \n",
            "__________________________________________________________________________________________________\n",
            "conv2d_3 (Conv2D)               (None, 32, 32, 64)   9216        add[0][0]                        \n",
            "__________________________________________________________________________________________________\n",
            "batch_normalization_3 (BatchNor (None, 32, 32, 64)   256         conv2d_3[0][0]                   \n",
            "__________________________________________________________________________________________________\n",
            "activation_3 (Activation)       (None, 32, 32, 64)   0           batch_normalization_3[0][0]      \n",
            "__________________________________________________________________________________________________\n",
            "conv2d_4 (Conv2D)               (None, 32, 32, 40)   2560        activation_3[0][0]               \n",
            "__________________________________________________________________________________________________\n",
            "batch_normalization_4 (BatchNor (None, 32, 32, 40)   160         conv2d_4[0][0]                   \n",
            "__________________________________________________________________________________________________\n",
            "conv2d_5 (Conv2D)               (None, 32, 32, 160)  57600       batch_normalization_4[0][0]      \n",
            "__________________________________________________________________________________________________\n",
            "batch_normalization_5 (BatchNor (None, 32, 32, 160)  640         conv2d_5[0][0]                   \n",
            "__________________________________________________________________________________________________\n",
            "activation_4 (Activation)       (None, 32, 32, 160)  0           batch_normalization_5[0][0]      \n",
            "__________________________________________________________________________________________________\n",
            "conv2d_6 (Conv2D)               (None, 32, 32, 40)   6400        activation_4[0][0]               \n",
            "__________________________________________________________________________________________________\n",
            "batch_normalization_6 (BatchNor (None, 32, 32, 40)   160         conv2d_6[0][0]                   \n",
            "__________________________________________________________________________________________________\n",
            "add_1 (Add)                     (None, 32, 32, 40)   0           batch_normalization_4[0][0]      \n",
            "                                                                 batch_normalization_6[0][0]      \n",
            "__________________________________________________________________________________________________\n",
            "conv2d_7 (Conv2D)               (None, 32, 32, 160)  57600       add_1[0][0]                      \n",
            "__________________________________________________________________________________________________\n",
            "batch_normalization_7 (BatchNor (None, 32, 32, 160)  640         conv2d_7[0][0]                   \n",
            "__________________________________________________________________________________________________\n",
            "activation_5 (Activation)       (None, 32, 32, 160)  0           batch_normalization_7[0][0]      \n",
            "__________________________________________________________________________________________________\n",
            "conv2d_8 (Conv2D)               (None, 32, 32, 40)   6400        activation_5[0][0]               \n",
            "__________________________________________________________________________________________________\n",
            "batch_normalization_8 (BatchNor (None, 32, 32, 40)   160         conv2d_8[0][0]                   \n",
            "__________________________________________________________________________________________________\n",
            "add_2 (Add)                     (None, 32, 32, 40)   0           add_1[0][0]                      \n",
            "                                                                 batch_normalization_8[0][0]      \n",
            "__________________________________________________________________________________________________\n",
            "conv2d_9 (Conv2D)               (None, 16, 16, 160)  57600       add_2[0][0]                      \n",
            "__________________________________________________________________________________________________\n",
            "batch_normalization_9 (BatchNor (None, 16, 16, 160)  640         conv2d_9[0][0]                   \n",
            "__________________________________________________________________________________________________\n",
            "activation_6 (Activation)       (None, 16, 16, 160)  0           batch_normalization_9[0][0]      \n",
            "__________________________________________________________________________________________________\n",
            "conv2d_10 (Conv2D)              (None, 16, 16, 56)   8960        activation_6[0][0]               \n",
            "__________________________________________________________________________________________________\n",
            "batch_normalization_10 (BatchNo (None, 16, 16, 56)   224         conv2d_10[0][0]                  \n",
            "__________________________________________________________________________________________________\n",
            "conv2d_11 (Conv2D)              (None, 16, 16, 224)  112896      batch_normalization_10[0][0]     \n",
            "__________________________________________________________________________________________________\n",
            "batch_normalization_11 (BatchNo (None, 16, 16, 224)  896         conv2d_11[0][0]                  \n",
            "__________________________________________________________________________________________________\n",
            "activation_7 (Activation)       (None, 16, 16, 224)  0           batch_normalization_11[0][0]     \n",
            "__________________________________________________________________________________________________\n",
            "conv2d_12 (Conv2D)              (None, 16, 16, 56)   12544       activation_7[0][0]               \n",
            "__________________________________________________________________________________________________\n",
            "batch_normalization_12 (BatchNo (None, 16, 16, 56)   224         conv2d_12[0][0]                  \n",
            "__________________________________________________________________________________________________\n",
            "add_3 (Add)                     (None, 16, 16, 56)   0           batch_normalization_10[0][0]     \n",
            "                                                                 batch_normalization_12[0][0]     \n",
            "__________________________________________________________________________________________________\n",
            "conv2d_13 (Conv2D)              (None, 16, 16, 224)  112896      add_3[0][0]                      \n",
            "__________________________________________________________________________________________________\n",
            "batch_normalization_13 (BatchNo (None, 16, 16, 224)  896         conv2d_13[0][0]                  \n",
            "__________________________________________________________________________________________________\n",
            "activation_8 (Activation)       (None, 16, 16, 224)  0           batch_normalization_13[0][0]     \n",
            "__________________________________________________________________________________________________\n",
            "conv2d_14 (Conv2D)              (None, 16, 16, 56)   12544       activation_8[0][0]               \n",
            "__________________________________________________________________________________________________\n",
            "batch_normalization_14 (BatchNo (None, 16, 16, 56)   224         conv2d_14[0][0]                  \n",
            "__________________________________________________________________________________________________\n",
            "add_4 (Add)                     (None, 16, 16, 56)   0           add_3[0][0]                      \n",
            "                                                                 batch_normalization_14[0][0]     \n",
            "__________________________________________________________________________________________________\n",
            "conv2d_15 (Conv2D)              (None, 16, 16, 224)  12544       add_4[0][0]                      \n",
            "__________________________________________________________________________________________________\n",
            "batch_normalization_15 (BatchNo (None, 16, 16, 224)  896         conv2d_15[0][0]                  \n",
            "__________________________________________________________________________________________________\n",
            "activation_9 (Activation)       (None, 16, 16, 224)  0           batch_normalization_15[0][0]     \n",
            "__________________________________________________________________________________________________\n",
            "depthwise_conv2d (DepthwiseConv (None, 8, 8, 224)    2016        activation_9[0][0]               \n",
            "__________________________________________________________________________________________________\n",
            "batch_normalization_16 (BatchNo (None, 8, 8, 224)    896         depthwise_conv2d[0][0]           \n",
            "__________________________________________________________________________________________________\n",
            "activation_10 (Activation)      (None, 8, 8, 224)    0           batch_normalization_16[0][0]     \n",
            "__________________________________________________________________________________________________\n",
            "tf.math.reduce_mean (TFOpLambda (None, 1, 1, 224)    0           activation_10[0][0]              \n",
            "__________________________________________________________________________________________________\n",
            "conv2d_16 (Conv2D)              (None, 1, 1, 14)     3150        tf.math.reduce_mean[0][0]        \n",
            "__________________________________________________________________________________________________\n",
            "activation_11 (Activation)      (None, 1, 1, 14)     0           conv2d_16[0][0]                  \n",
            "__________________________________________________________________________________________________\n",
            "conv2d_17 (Conv2D)              (None, 1, 1, 224)    3360        activation_11[0][0]              \n",
            "__________________________________________________________________________________________________\n",
            "activation_12 (Activation)      (None, 1, 1, 224)    0           conv2d_17[0][0]                  \n",
            "__________________________________________________________________________________________________\n",
            "multiply (Multiply)             (None, 8, 8, 224)    0           activation_10[0][0]              \n",
            "                                                                 activation_12[0][0]              \n",
            "__________________________________________________________________________________________________\n",
            "conv2d_18 (Conv2D)              (None, 8, 8, 112)    25088       multiply[0][0]                   \n",
            "__________________________________________________________________________________________________\n",
            "batch_normalization_17 (BatchNo (None, 8, 8, 112)    448         conv2d_18[0][0]                  \n",
            "__________________________________________________________________________________________________\n",
            "conv2d_19 (Conv2D)              (None, 8, 8, 448)    50176       batch_normalization_17[0][0]     \n",
            "__________________________________________________________________________________________________\n",
            "batch_normalization_18 (BatchNo (None, 8, 8, 448)    1792        conv2d_19[0][0]                  \n",
            "__________________________________________________________________________________________________\n",
            "activation_13 (Activation)      (None, 8, 8, 448)    0           batch_normalization_18[0][0]     \n",
            "__________________________________________________________________________________________________\n",
            "depthwise_conv2d_1 (DepthwiseCo (None, 8, 8, 448)    4032        activation_13[0][0]              \n",
            "__________________________________________________________________________________________________\n",
            "batch_normalization_19 (BatchNo (None, 8, 8, 448)    1792        depthwise_conv2d_1[0][0]         \n",
            "__________________________________________________________________________________________________\n",
            "activation_14 (Activation)      (None, 8, 8, 448)    0           batch_normalization_19[0][0]     \n",
            "__________________________________________________________________________________________________\n",
            "tf.math.reduce_mean_1 (TFOpLamb (None, 1, 1, 448)    0           activation_14[0][0]              \n",
            "__________________________________________________________________________________________________\n",
            "conv2d_20 (Conv2D)              (None, 1, 1, 28)     12572       tf.math.reduce_mean_1[0][0]      \n",
            "__________________________________________________________________________________________________\n",
            "activation_15 (Activation)      (None, 1, 1, 28)     0           conv2d_20[0][0]                  \n",
            "__________________________________________________________________________________________________\n",
            "conv2d_21 (Conv2D)              (None, 1, 1, 448)    12992       activation_15[0][0]              \n",
            "__________________________________________________________________________________________________\n",
            "activation_16 (Activation)      (None, 1, 1, 448)    0           conv2d_21[0][0]                  \n",
            "__________________________________________________________________________________________________\n",
            "multiply_1 (Multiply)           (None, 8, 8, 448)    0           activation_14[0][0]              \n",
            "                                                                 activation_16[0][0]              \n",
            "__________________________________________________________________________________________________\n",
            "conv2d_22 (Conv2D)              (None, 8, 8, 112)    50176       multiply_1[0][0]                 \n",
            "__________________________________________________________________________________________________\n",
            "batch_normalization_20 (BatchNo (None, 8, 8, 112)    448         conv2d_22[0][0]                  \n",
            "__________________________________________________________________________________________________\n",
            "add_5 (Add)                     (None, 8, 8, 112)    0           batch_normalization_17[0][0]     \n",
            "                                                                 batch_normalization_20[0][0]     \n",
            "__________________________________________________________________________________________________\n",
            "conv2d_23 (Conv2D)              (None, 8, 8, 448)    50176       add_5[0][0]                      \n",
            "__________________________________________________________________________________________________\n",
            "batch_normalization_21 (BatchNo (None, 8, 8, 448)    1792        conv2d_23[0][0]                  \n",
            "__________________________________________________________________________________________________\n",
            "activation_17 (Activation)      (None, 8, 8, 448)    0           batch_normalization_21[0][0]     \n",
            "__________________________________________________________________________________________________\n",
            "depthwise_conv2d_2 (DepthwiseCo (None, 8, 8, 448)    4032        activation_17[0][0]              \n",
            "__________________________________________________________________________________________________\n",
            "batch_normalization_22 (BatchNo (None, 8, 8, 448)    1792        depthwise_conv2d_2[0][0]         \n",
            "__________________________________________________________________________________________________\n",
            "activation_18 (Activation)      (None, 8, 8, 448)    0           batch_normalization_22[0][0]     \n",
            "__________________________________________________________________________________________________\n",
            "tf.math.reduce_mean_2 (TFOpLamb (None, 1, 1, 448)    0           activation_18[0][0]              \n",
            "__________________________________________________________________________________________________\n",
            "conv2d_24 (Conv2D)              (None, 1, 1, 28)     12572       tf.math.reduce_mean_2[0][0]      \n",
            "__________________________________________________________________________________________________\n",
            "activation_19 (Activation)      (None, 1, 1, 28)     0           conv2d_24[0][0]                  \n",
            "__________________________________________________________________________________________________\n",
            "conv2d_25 (Conv2D)              (None, 1, 1, 448)    12992       activation_19[0][0]              \n",
            "__________________________________________________________________________________________________\n",
            "activation_20 (Activation)      (None, 1, 1, 448)    0           conv2d_25[0][0]                  \n",
            "__________________________________________________________________________________________________\n",
            "multiply_2 (Multiply)           (None, 8, 8, 448)    0           activation_18[0][0]              \n",
            "                                                                 activation_20[0][0]              \n",
            "__________________________________________________________________________________________________\n",
            "conv2d_26 (Conv2D)              (None, 8, 8, 112)    50176       multiply_2[0][0]                 \n",
            "__________________________________________________________________________________________________\n",
            "batch_normalization_23 (BatchNo (None, 8, 8, 112)    448         conv2d_26[0][0]                  \n",
            "__________________________________________________________________________________________________\n",
            "add_6 (Add)                     (None, 8, 8, 112)    0           add_5[0][0]                      \n",
            "                                                                 batch_normalization_23[0][0]     \n",
            "__________________________________________________________________________________________________\n",
            "conv2d_27 (Conv2D)              (None, 8, 8, 448)    50176       add_6[0][0]                      \n",
            "__________________________________________________________________________________________________\n",
            "batch_normalization_24 (BatchNo (None, 8, 8, 448)    1792        conv2d_27[0][0]                  \n",
            "__________________________________________________________________________________________________\n",
            "activation_21 (Activation)      (None, 8, 8, 448)    0           batch_normalization_24[0][0]     \n",
            "__________________________________________________________________________________________________\n",
            "depthwise_conv2d_3 (DepthwiseCo (None, 8, 8, 448)    4032        activation_21[0][0]              \n",
            "__________________________________________________________________________________________________\n",
            "batch_normalization_25 (BatchNo (None, 8, 8, 448)    1792        depthwise_conv2d_3[0][0]         \n",
            "__________________________________________________________________________________________________\n",
            "activation_22 (Activation)      (None, 8, 8, 448)    0           batch_normalization_25[0][0]     \n",
            "__________________________________________________________________________________________________\n",
            "tf.math.reduce_mean_3 (TFOpLamb (None, 1, 1, 448)    0           activation_22[0][0]              \n",
            "__________________________________________________________________________________________________\n",
            "conv2d_28 (Conv2D)              (None, 1, 1, 28)     12572       tf.math.reduce_mean_3[0][0]      \n",
            "__________________________________________________________________________________________________\n",
            "activation_23 (Activation)      (None, 1, 1, 28)     0           conv2d_28[0][0]                  \n",
            "__________________________________________________________________________________________________\n",
            "conv2d_29 (Conv2D)              (None, 1, 1, 448)    12992       activation_23[0][0]              \n",
            "__________________________________________________________________________________________________\n",
            "activation_24 (Activation)      (None, 1, 1, 448)    0           conv2d_29[0][0]                  \n",
            "__________________________________________________________________________________________________\n",
            "multiply_3 (Multiply)           (None, 8, 8, 448)    0           activation_22[0][0]              \n",
            "                                                                 activation_24[0][0]              \n",
            "__________________________________________________________________________________________________\n",
            "conv2d_30 (Conv2D)              (None, 8, 8, 112)    50176       multiply_3[0][0]                 \n",
            "__________________________________________________________________________________________________\n",
            "batch_normalization_26 (BatchNo (None, 8, 8, 112)    448         conv2d_30[0][0]                  \n",
            "__________________________________________________________________________________________________\n",
            "add_7 (Add)                     (None, 8, 8, 112)    0           add_6[0][0]                      \n",
            "                                                                 batch_normalization_26[0][0]     \n",
            "__________________________________________________________________________________________________\n",
            "conv2d_31 (Conv2D)              (None, 8, 8, 448)    50176       add_7[0][0]                      \n",
            "__________________________________________________________________________________________________\n",
            "batch_normalization_27 (BatchNo (None, 8, 8, 448)    1792        conv2d_31[0][0]                  \n",
            "__________________________________________________________________________________________________\n",
            "activation_25 (Activation)      (None, 8, 8, 448)    0           batch_normalization_27[0][0]     \n",
            "__________________________________________________________________________________________________\n",
            "depthwise_conv2d_4 (DepthwiseCo (None, 8, 8, 448)    4032        activation_25[0][0]              \n",
            "__________________________________________________________________________________________________\n",
            "batch_normalization_28 (BatchNo (None, 8, 8, 448)    1792        depthwise_conv2d_4[0][0]         \n",
            "__________________________________________________________________________________________________\n",
            "activation_26 (Activation)      (None, 8, 8, 448)    0           batch_normalization_28[0][0]     \n",
            "__________________________________________________________________________________________________\n",
            "tf.math.reduce_mean_4 (TFOpLamb (None, 1, 1, 448)    0           activation_26[0][0]              \n",
            "__________________________________________________________________________________________________\n",
            "conv2d_32 (Conv2D)              (None, 1, 1, 28)     12572       tf.math.reduce_mean_4[0][0]      \n",
            "__________________________________________________________________________________________________\n",
            "activation_27 (Activation)      (None, 1, 1, 28)     0           conv2d_32[0][0]                  \n",
            "__________________________________________________________________________________________________\n",
            "conv2d_33 (Conv2D)              (None, 1, 1, 448)    12992       activation_27[0][0]              \n",
            "__________________________________________________________________________________________________\n",
            "activation_28 (Activation)      (None, 1, 1, 448)    0           conv2d_33[0][0]                  \n",
            "__________________________________________________________________________________________________\n",
            "multiply_4 (Multiply)           (None, 8, 8, 448)    0           activation_26[0][0]              \n",
            "                                                                 activation_28[0][0]              \n",
            "__________________________________________________________________________________________________\n",
            "conv2d_34 (Conv2D)              (None, 8, 8, 112)    50176       multiply_4[0][0]                 \n",
            "__________________________________________________________________________________________________\n",
            "batch_normalization_29 (BatchNo (None, 8, 8, 112)    448         conv2d_34[0][0]                  \n",
            "__________________________________________________________________________________________________\n",
            "add_8 (Add)                     (None, 8, 8, 112)    0           add_7[0][0]                      \n",
            "                                                                 batch_normalization_29[0][0]     \n",
            "__________________________________________________________________________________________________\n",
            "conv2d_35 (Conv2D)              (None, 8, 8, 672)    75264       add_8[0][0]                      \n",
            "__________________________________________________________________________________________________\n",
            "batch_normalization_30 (BatchNo (None, 8, 8, 672)    2688        conv2d_35[0][0]                  \n",
            "__________________________________________________________________________________________________\n",
            "activation_29 (Activation)      (None, 8, 8, 672)    0           batch_normalization_30[0][0]     \n",
            "__________________________________________________________________________________________________\n",
            "depthwise_conv2d_5 (DepthwiseCo (None, 8, 8, 672)    6048        activation_29[0][0]              \n",
            "__________________________________________________________________________________________________\n",
            "batch_normalization_31 (BatchNo (None, 8, 8, 672)    2688        depthwise_conv2d_5[0][0]         \n",
            "__________________________________________________________________________________________________\n",
            "activation_30 (Activation)      (None, 8, 8, 672)    0           batch_normalization_31[0][0]     \n",
            "__________________________________________________________________________________________________\n",
            "tf.math.reduce_mean_5 (TFOpLamb (None, 1, 1, 672)    0           activation_30[0][0]              \n",
            "__________________________________________________________________________________________________\n",
            "conv2d_36 (Conv2D)              (None, 1, 1, 28)     18844       tf.math.reduce_mean_5[0][0]      \n",
            "__________________________________________________________________________________________________\n",
            "activation_31 (Activation)      (None, 1, 1, 28)     0           conv2d_36[0][0]                  \n",
            "__________________________________________________________________________________________________\n",
            "conv2d_37 (Conv2D)              (None, 1, 1, 672)    19488       activation_31[0][0]              \n",
            "__________________________________________________________________________________________________\n",
            "activation_32 (Activation)      (None, 1, 1, 672)    0           conv2d_37[0][0]                  \n",
            "__________________________________________________________________________________________________\n",
            "multiply_5 (Multiply)           (None, 8, 8, 672)    0           activation_30[0][0]              \n",
            "                                                                 activation_32[0][0]              \n",
            "__________________________________________________________________________________________________\n",
            "conv2d_38 (Conv2D)              (None, 8, 8, 136)    91392       multiply_5[0][0]                 \n",
            "__________________________________________________________________________________________________\n",
            "batch_normalization_32 (BatchNo (None, 8, 8, 136)    544         conv2d_38[0][0]                  \n",
            "__________________________________________________________________________________________________\n",
            "conv2d_39 (Conv2D)              (None, 8, 8, 816)    110976      batch_normalization_32[0][0]     \n",
            "__________________________________________________________________________________________________\n",
            "batch_normalization_33 (BatchNo (None, 8, 8, 816)    3264        conv2d_39[0][0]                  \n",
            "__________________________________________________________________________________________________\n",
            "activation_33 (Activation)      (None, 8, 8, 816)    0           batch_normalization_33[0][0]     \n",
            "__________________________________________________________________________________________________\n",
            "depthwise_conv2d_6 (DepthwiseCo (None, 8, 8, 816)    7344        activation_33[0][0]              \n",
            "__________________________________________________________________________________________________\n",
            "batch_normalization_34 (BatchNo (None, 8, 8, 816)    3264        depthwise_conv2d_6[0][0]         \n",
            "__________________________________________________________________________________________________\n",
            "activation_34 (Activation)      (None, 8, 8, 816)    0           batch_normalization_34[0][0]     \n",
            "__________________________________________________________________________________________________\n",
            "tf.math.reduce_mean_6 (TFOpLamb (None, 1, 1, 816)    0           activation_34[0][0]              \n",
            "__________________________________________________________________________________________________\n",
            "conv2d_40 (Conv2D)              (None, 1, 1, 34)     27778       tf.math.reduce_mean_6[0][0]      \n",
            "__________________________________________________________________________________________________\n",
            "activation_35 (Activation)      (None, 1, 1, 34)     0           conv2d_40[0][0]                  \n",
            "__________________________________________________________________________________________________\n",
            "conv2d_41 (Conv2D)              (None, 1, 1, 816)    28560       activation_35[0][0]              \n",
            "__________________________________________________________________________________________________\n",
            "activation_36 (Activation)      (None, 1, 1, 816)    0           conv2d_41[0][0]                  \n",
            "__________________________________________________________________________________________________\n",
            "multiply_6 (Multiply)           (None, 8, 8, 816)    0           activation_34[0][0]              \n",
            "                                                                 activation_36[0][0]              \n",
            "__________________________________________________________________________________________________\n",
            "conv2d_42 (Conv2D)              (None, 8, 8, 136)    110976      multiply_6[0][0]                 \n",
            "__________________________________________________________________________________________________\n",
            "batch_normalization_35 (BatchNo (None, 8, 8, 136)    544         conv2d_42[0][0]                  \n",
            "__________________________________________________________________________________________________\n",
            "add_9 (Add)                     (None, 8, 8, 136)    0           batch_normalization_32[0][0]     \n",
            "                                                                 batch_normalization_35[0][0]     \n",
            "__________________________________________________________________________________________________\n",
            "conv2d_43 (Conv2D)              (None, 8, 8, 816)    110976      add_9[0][0]                      \n",
            "__________________________________________________________________________________________________\n",
            "batch_normalization_36 (BatchNo (None, 8, 8, 816)    3264        conv2d_43[0][0]                  \n",
            "__________________________________________________________________________________________________\n",
            "activation_37 (Activation)      (None, 8, 8, 816)    0           batch_normalization_36[0][0]     \n",
            "__________________________________________________________________________________________________\n",
            "depthwise_conv2d_7 (DepthwiseCo (None, 8, 8, 816)    7344        activation_37[0][0]              \n",
            "__________________________________________________________________________________________________\n",
            "batch_normalization_37 (BatchNo (None, 8, 8, 816)    3264        depthwise_conv2d_7[0][0]         \n",
            "__________________________________________________________________________________________________\n",
            "activation_38 (Activation)      (None, 8, 8, 816)    0           batch_normalization_37[0][0]     \n",
            "__________________________________________________________________________________________________\n",
            "tf.math.reduce_mean_7 (TFOpLamb (None, 1, 1, 816)    0           activation_38[0][0]              \n",
            "__________________________________________________________________________________________________\n",
            "conv2d_44 (Conv2D)              (None, 1, 1, 34)     27778       tf.math.reduce_mean_7[0][0]      \n",
            "__________________________________________________________________________________________________\n",
            "activation_39 (Activation)      (None, 1, 1, 34)     0           conv2d_44[0][0]                  \n",
            "__________________________________________________________________________________________________\n",
            "conv2d_45 (Conv2D)              (None, 1, 1, 816)    28560       activation_39[0][0]              \n",
            "__________________________________________________________________________________________________\n",
            "activation_40 (Activation)      (None, 1, 1, 816)    0           conv2d_45[0][0]                  \n",
            "__________________________________________________________________________________________________\n",
            "multiply_7 (Multiply)           (None, 8, 8, 816)    0           activation_38[0][0]              \n",
            "                                                                 activation_40[0][0]              \n",
            "__________________________________________________________________________________________________\n",
            "conv2d_46 (Conv2D)              (None, 8, 8, 136)    110976      multiply_7[0][0]                 \n",
            "__________________________________________________________________________________________________\n",
            "batch_normalization_38 (BatchNo (None, 8, 8, 136)    544         conv2d_46[0][0]                  \n",
            "__________________________________________________________________________________________________\n",
            "add_10 (Add)                    (None, 8, 8, 136)    0           add_9[0][0]                      \n",
            "                                                                 batch_normalization_38[0][0]     \n",
            "__________________________________________________________________________________________________\n",
            "conv2d_47 (Conv2D)              (None, 8, 8, 816)    110976      add_10[0][0]                     \n",
            "__________________________________________________________________________________________________\n",
            "batch_normalization_39 (BatchNo (None, 8, 8, 816)    3264        conv2d_47[0][0]                  \n",
            "__________________________________________________________________________________________________\n",
            "activation_41 (Activation)      (None, 8, 8, 816)    0           batch_normalization_39[0][0]     \n",
            "__________________________________________________________________________________________________\n",
            "depthwise_conv2d_8 (DepthwiseCo (None, 8, 8, 816)    7344        activation_41[0][0]              \n",
            "__________________________________________________________________________________________________\n",
            "batch_normalization_40 (BatchNo (None, 8, 8, 816)    3264        depthwise_conv2d_8[0][0]         \n",
            "__________________________________________________________________________________________________\n",
            "activation_42 (Activation)      (None, 8, 8, 816)    0           batch_normalization_40[0][0]     \n",
            "__________________________________________________________________________________________________\n",
            "tf.math.reduce_mean_8 (TFOpLamb (None, 1, 1, 816)    0           activation_42[0][0]              \n",
            "__________________________________________________________________________________________________\n",
            "conv2d_48 (Conv2D)              (None, 1, 1, 34)     27778       tf.math.reduce_mean_8[0][0]      \n",
            "__________________________________________________________________________________________________\n",
            "activation_43 (Activation)      (None, 1, 1, 34)     0           conv2d_48[0][0]                  \n",
            "__________________________________________________________________________________________________\n",
            "conv2d_49 (Conv2D)              (None, 1, 1, 816)    28560       activation_43[0][0]              \n",
            "__________________________________________________________________________________________________\n",
            "activation_44 (Activation)      (None, 1, 1, 816)    0           conv2d_49[0][0]                  \n",
            "__________________________________________________________________________________________________\n",
            "multiply_8 (Multiply)           (None, 8, 8, 816)    0           activation_42[0][0]              \n",
            "                                                                 activation_44[0][0]              \n",
            "__________________________________________________________________________________________________\n",
            "conv2d_50 (Conv2D)              (None, 8, 8, 136)    110976      multiply_8[0][0]                 \n",
            "__________________________________________________________________________________________________\n",
            "batch_normalization_41 (BatchNo (None, 8, 8, 136)    544         conv2d_50[0][0]                  \n",
            "__________________________________________________________________________________________________\n",
            "add_11 (Add)                    (None, 8, 8, 136)    0           add_10[0][0]                     \n",
            "                                                                 batch_normalization_41[0][0]     \n",
            "__________________________________________________________________________________________________\n",
            "conv2d_51 (Conv2D)              (None, 8, 8, 816)    110976      add_11[0][0]                     \n",
            "__________________________________________________________________________________________________\n",
            "batch_normalization_42 (BatchNo (None, 8, 8, 816)    3264        conv2d_51[0][0]                  \n",
            "__________________________________________________________________________________________________\n",
            "activation_45 (Activation)      (None, 8, 8, 816)    0           batch_normalization_42[0][0]     \n",
            "__________________________________________________________________________________________________\n",
            "depthwise_conv2d_9 (DepthwiseCo (None, 8, 8, 816)    7344        activation_45[0][0]              \n",
            "__________________________________________________________________________________________________\n",
            "batch_normalization_43 (BatchNo (None, 8, 8, 816)    3264        depthwise_conv2d_9[0][0]         \n",
            "__________________________________________________________________________________________________\n",
            "activation_46 (Activation)      (None, 8, 8, 816)    0           batch_normalization_43[0][0]     \n",
            "__________________________________________________________________________________________________\n",
            "tf.math.reduce_mean_9 (TFOpLamb (None, 1, 1, 816)    0           activation_46[0][0]              \n",
            "__________________________________________________________________________________________________\n",
            "conv2d_52 (Conv2D)              (None, 1, 1, 34)     27778       tf.math.reduce_mean_9[0][0]      \n",
            "__________________________________________________________________________________________________\n",
            "activation_47 (Activation)      (None, 1, 1, 34)     0           conv2d_52[0][0]                  \n",
            "__________________________________________________________________________________________________\n",
            "conv2d_53 (Conv2D)              (None, 1, 1, 816)    28560       activation_47[0][0]              \n",
            "__________________________________________________________________________________________________\n",
            "activation_48 (Activation)      (None, 1, 1, 816)    0           conv2d_53[0][0]                  \n",
            "__________________________________________________________________________________________________\n",
            "multiply_9 (Multiply)           (None, 8, 8, 816)    0           activation_46[0][0]              \n",
            "                                                                 activation_48[0][0]              \n",
            "__________________________________________________________________________________________________\n",
            "conv2d_54 (Conv2D)              (None, 8, 8, 136)    110976      multiply_9[0][0]                 \n",
            "__________________________________________________________________________________________________\n",
            "batch_normalization_44 (BatchNo (None, 8, 8, 136)    544         conv2d_54[0][0]                  \n",
            "__________________________________________________________________________________________________\n",
            "add_12 (Add)                    (None, 8, 8, 136)    0           add_11[0][0]                     \n",
            "                                                                 batch_normalization_44[0][0]     \n",
            "__________________________________________________________________________________________________\n",
            "conv2d_55 (Conv2D)              (None, 8, 8, 816)    110976      add_12[0][0]                     \n",
            "__________________________________________________________________________________________________\n",
            "batch_normalization_45 (BatchNo (None, 8, 8, 816)    3264        conv2d_55[0][0]                  \n",
            "__________________________________________________________________________________________________\n",
            "activation_49 (Activation)      (None, 8, 8, 816)    0           batch_normalization_45[0][0]     \n",
            "__________________________________________________________________________________________________\n",
            "depthwise_conv2d_10 (DepthwiseC (None, 8, 8, 816)    7344        activation_49[0][0]              \n",
            "__________________________________________________________________________________________________\n",
            "batch_normalization_46 (BatchNo (None, 8, 8, 816)    3264        depthwise_conv2d_10[0][0]        \n",
            "__________________________________________________________________________________________________\n",
            "activation_50 (Activation)      (None, 8, 8, 816)    0           batch_normalization_46[0][0]     \n",
            "__________________________________________________________________________________________________\n",
            "tf.math.reduce_mean_10 (TFOpLam (None, 1, 1, 816)    0           activation_50[0][0]              \n",
            "__________________________________________________________________________________________________\n",
            "conv2d_56 (Conv2D)              (None, 1, 1, 34)     27778       tf.math.reduce_mean_10[0][0]     \n",
            "__________________________________________________________________________________________________\n",
            "activation_51 (Activation)      (None, 1, 1, 34)     0           conv2d_56[0][0]                  \n",
            "__________________________________________________________________________________________________\n",
            "conv2d_57 (Conv2D)              (None, 1, 1, 816)    28560       activation_51[0][0]              \n",
            "__________________________________________________________________________________________________\n",
            "activation_52 (Activation)      (None, 1, 1, 816)    0           conv2d_57[0][0]                  \n",
            "__________________________________________________________________________________________________\n",
            "multiply_10 (Multiply)          (None, 8, 8, 816)    0           activation_50[0][0]              \n",
            "                                                                 activation_52[0][0]              \n",
            "__________________________________________________________________________________________________\n",
            "conv2d_58 (Conv2D)              (None, 8, 8, 136)    110976      multiply_10[0][0]                \n",
            "__________________________________________________________________________________________________\n",
            "batch_normalization_47 (BatchNo (None, 8, 8, 136)    544         conv2d_58[0][0]                  \n",
            "__________________________________________________________________________________________________\n",
            "add_13 (Add)                    (None, 8, 8, 136)    0           add_12[0][0]                     \n",
            "                                                                 batch_normalization_47[0][0]     \n",
            "__________________________________________________________________________________________________\n",
            "conv2d_59 (Conv2D)              (None, 8, 8, 816)    110976      add_13[0][0]                     \n",
            "__________________________________________________________________________________________________\n",
            "batch_normalization_48 (BatchNo (None, 8, 8, 816)    3264        conv2d_59[0][0]                  \n",
            "__________________________________________________________________________________________________\n",
            "activation_53 (Activation)      (None, 8, 8, 816)    0           batch_normalization_48[0][0]     \n",
            "__________________________________________________________________________________________________\n",
            "depthwise_conv2d_11 (DepthwiseC (None, 8, 8, 816)    7344        activation_53[0][0]              \n",
            "__________________________________________________________________________________________________\n",
            "batch_normalization_49 (BatchNo (None, 8, 8, 816)    3264        depthwise_conv2d_11[0][0]        \n",
            "__________________________________________________________________________________________________\n",
            "activation_54 (Activation)      (None, 8, 8, 816)    0           batch_normalization_49[0][0]     \n",
            "__________________________________________________________________________________________________\n",
            "tf.math.reduce_mean_11 (TFOpLam (None, 1, 1, 816)    0           activation_54[0][0]              \n",
            "__________________________________________________________________________________________________\n",
            "conv2d_60 (Conv2D)              (None, 1, 1, 34)     27778       tf.math.reduce_mean_11[0][0]     \n",
            "__________________________________________________________________________________________________\n",
            "activation_55 (Activation)      (None, 1, 1, 34)     0           conv2d_60[0][0]                  \n",
            "__________________________________________________________________________________________________\n",
            "conv2d_61 (Conv2D)              (None, 1, 1, 816)    28560       activation_55[0][0]              \n",
            "__________________________________________________________________________________________________\n",
            "activation_56 (Activation)      (None, 1, 1, 816)    0           conv2d_61[0][0]                  \n",
            "__________________________________________________________________________________________________\n",
            "multiply_11 (Multiply)          (None, 8, 8, 816)    0           activation_54[0][0]              \n",
            "                                                                 activation_56[0][0]              \n",
            "__________________________________________________________________________________________________\n",
            "conv2d_62 (Conv2D)              (None, 8, 8, 136)    110976      multiply_11[0][0]                \n",
            "__________________________________________________________________________________________________\n",
            "batch_normalization_50 (BatchNo (None, 8, 8, 136)    544         conv2d_62[0][0]                  \n",
            "__________________________________________________________________________________________________\n",
            "add_14 (Add)                    (None, 8, 8, 136)    0           add_13[0][0]                     \n",
            "                                                                 batch_normalization_50[0][0]     \n",
            "__________________________________________________________________________________________________\n",
            "conv2d_63 (Conv2D)              (None, 8, 8, 816)    110976      add_14[0][0]                     \n",
            "__________________________________________________________________________________________________\n",
            "batch_normalization_51 (BatchNo (None, 8, 8, 816)    3264        conv2d_63[0][0]                  \n",
            "__________________________________________________________________________________________________\n",
            "activation_57 (Activation)      (None, 8, 8, 816)    0           batch_normalization_51[0][0]     \n",
            "__________________________________________________________________________________________________\n",
            "depthwise_conv2d_12 (DepthwiseC (None, 4, 4, 816)    7344        activation_57[0][0]              \n",
            "__________________________________________________________________________________________________\n",
            "batch_normalization_52 (BatchNo (None, 4, 4, 816)    3264        depthwise_conv2d_12[0][0]        \n",
            "__________________________________________________________________________________________________\n",
            "activation_58 (Activation)      (None, 4, 4, 816)    0           batch_normalization_52[0][0]     \n",
            "__________________________________________________________________________________________________\n",
            "tf.math.reduce_mean_12 (TFOpLam (None, 1, 1, 816)    0           activation_58[0][0]              \n",
            "__________________________________________________________________________________________________\n",
            "conv2d_64 (Conv2D)              (None, 1, 1, 34)     27778       tf.math.reduce_mean_12[0][0]     \n",
            "__________________________________________________________________________________________________\n",
            "activation_59 (Activation)      (None, 1, 1, 34)     0           conv2d_64[0][0]                  \n",
            "__________________________________________________________________________________________________\n",
            "conv2d_65 (Conv2D)              (None, 1, 1, 816)    28560       activation_59[0][0]              \n",
            "__________________________________________________________________________________________________\n",
            "activation_60 (Activation)      (None, 1, 1, 816)    0           conv2d_65[0][0]                  \n",
            "__________________________________________________________________________________________________\n",
            "multiply_12 (Multiply)          (None, 4, 4, 816)    0           activation_58[0][0]              \n",
            "                                                                 activation_60[0][0]              \n",
            "__________________________________________________________________________________________________\n",
            "conv2d_66 (Conv2D)              (None, 4, 4, 232)    189312      multiply_12[0][0]                \n",
            "__________________________________________________________________________________________________\n",
            "batch_normalization_53 (BatchNo (None, 4, 4, 232)    928         conv2d_66[0][0]                  \n",
            "__________________________________________________________________________________________________\n",
            "conv2d_67 (Conv2D)              (None, 4, 4, 1392)   322944      batch_normalization_53[0][0]     \n",
            "__________________________________________________________________________________________________\n",
            "batch_normalization_54 (BatchNo (None, 4, 4, 1392)   5568        conv2d_67[0][0]                  \n",
            "__________________________________________________________________________________________________\n",
            "activation_61 (Activation)      (None, 4, 4, 1392)   0           batch_normalization_54[0][0]     \n",
            "__________________________________________________________________________________________________\n",
            "depthwise_conv2d_13 (DepthwiseC (None, 4, 4, 1392)   12528       activation_61[0][0]              \n",
            "__________________________________________________________________________________________________\n",
            "batch_normalization_55 (BatchNo (None, 4, 4, 1392)   5568        depthwise_conv2d_13[0][0]        \n",
            "__________________________________________________________________________________________________\n",
            "activation_62 (Activation)      (None, 4, 4, 1392)   0           batch_normalization_55[0][0]     \n",
            "__________________________________________________________________________________________________\n",
            "tf.math.reduce_mean_13 (TFOpLam (None, 1, 1, 1392)   0           activation_62[0][0]              \n",
            "__________________________________________________________________________________________________\n",
            "conv2d_68 (Conv2D)              (None, 1, 1, 58)     80794       tf.math.reduce_mean_13[0][0]     \n",
            "__________________________________________________________________________________________________\n",
            "activation_63 (Activation)      (None, 1, 1, 58)     0           conv2d_68[0][0]                  \n",
            "__________________________________________________________________________________________________\n",
            "conv2d_69 (Conv2D)              (None, 1, 1, 1392)   82128       activation_63[0][0]              \n",
            "__________________________________________________________________________________________________\n",
            "activation_64 (Activation)      (None, 1, 1, 1392)   0           conv2d_69[0][0]                  \n",
            "__________________________________________________________________________________________________\n",
            "multiply_13 (Multiply)          (None, 4, 4, 1392)   0           activation_62[0][0]              \n",
            "                                                                 activation_64[0][0]              \n",
            "__________________________________________________________________________________________________\n",
            "conv2d_70 (Conv2D)              (None, 4, 4, 232)    322944      multiply_13[0][0]                \n",
            "__________________________________________________________________________________________________\n",
            "batch_normalization_56 (BatchNo (None, 4, 4, 232)    928         conv2d_70[0][0]                  \n",
            "__________________________________________________________________________________________________\n",
            "add_15 (Add)                    (None, 4, 4, 232)    0           batch_normalization_53[0][0]     \n",
            "                                                                 batch_normalization_56[0][0]     \n",
            "__________________________________________________________________________________________________\n",
            "conv2d_71 (Conv2D)              (None, 4, 4, 1392)   322944      add_15[0][0]                     \n",
            "__________________________________________________________________________________________________\n",
            "batch_normalization_57 (BatchNo (None, 4, 4, 1392)   5568        conv2d_71[0][0]                  \n",
            "__________________________________________________________________________________________________\n",
            "activation_65 (Activation)      (None, 4, 4, 1392)   0           batch_normalization_57[0][0]     \n",
            "__________________________________________________________________________________________________\n",
            "depthwise_conv2d_14 (DepthwiseC (None, 4, 4, 1392)   12528       activation_65[0][0]              \n",
            "__________________________________________________________________________________________________\n",
            "batch_normalization_58 (BatchNo (None, 4, 4, 1392)   5568        depthwise_conv2d_14[0][0]        \n",
            "__________________________________________________________________________________________________\n",
            "activation_66 (Activation)      (None, 4, 4, 1392)   0           batch_normalization_58[0][0]     \n",
            "__________________________________________________________________________________________________\n",
            "tf.math.reduce_mean_14 (TFOpLam (None, 1, 1, 1392)   0           activation_66[0][0]              \n",
            "__________________________________________________________________________________________________\n",
            "conv2d_72 (Conv2D)              (None, 1, 1, 58)     80794       tf.math.reduce_mean_14[0][0]     \n",
            "__________________________________________________________________________________________________\n",
            "activation_67 (Activation)      (None, 1, 1, 58)     0           conv2d_72[0][0]                  \n",
            "__________________________________________________________________________________________________\n",
            "conv2d_73 (Conv2D)              (None, 1, 1, 1392)   82128       activation_67[0][0]              \n",
            "__________________________________________________________________________________________________\n",
            "activation_68 (Activation)      (None, 1, 1, 1392)   0           conv2d_73[0][0]                  \n",
            "__________________________________________________________________________________________________\n",
            "multiply_14 (Multiply)          (None, 4, 4, 1392)   0           activation_66[0][0]              \n",
            "                                                                 activation_68[0][0]              \n",
            "__________________________________________________________________________________________________\n",
            "conv2d_74 (Conv2D)              (None, 4, 4, 232)    322944      multiply_14[0][0]                \n",
            "__________________________________________________________________________________________________\n",
            "batch_normalization_59 (BatchNo (None, 4, 4, 232)    928         conv2d_74[0][0]                  \n",
            "__________________________________________________________________________________________________\n",
            "add_16 (Add)                    (None, 4, 4, 232)    0           add_15[0][0]                     \n",
            "                                                                 batch_normalization_59[0][0]     \n",
            "__________________________________________________________________________________________________\n",
            "conv2d_75 (Conv2D)              (None, 4, 4, 1392)   322944      add_16[0][0]                     \n",
            "__________________________________________________________________________________________________\n",
            "batch_normalization_60 (BatchNo (None, 4, 4, 1392)   5568        conv2d_75[0][0]                  \n",
            "__________________________________________________________________________________________________\n",
            "activation_69 (Activation)      (None, 4, 4, 1392)   0           batch_normalization_60[0][0]     \n",
            "__________________________________________________________________________________________________\n",
            "depthwise_conv2d_15 (DepthwiseC (None, 4, 4, 1392)   12528       activation_69[0][0]              \n",
            "__________________________________________________________________________________________________\n",
            "batch_normalization_61 (BatchNo (None, 4, 4, 1392)   5568        depthwise_conv2d_15[0][0]        \n",
            "__________________________________________________________________________________________________\n",
            "activation_70 (Activation)      (None, 4, 4, 1392)   0           batch_normalization_61[0][0]     \n",
            "__________________________________________________________________________________________________\n",
            "tf.math.reduce_mean_15 (TFOpLam (None, 1, 1, 1392)   0           activation_70[0][0]              \n",
            "__________________________________________________________________________________________________\n",
            "conv2d_76 (Conv2D)              (None, 1, 1, 58)     80794       tf.math.reduce_mean_15[0][0]     \n",
            "__________________________________________________________________________________________________\n",
            "activation_71 (Activation)      (None, 1, 1, 58)     0           conv2d_76[0][0]                  \n",
            "__________________________________________________________________________________________________\n",
            "conv2d_77 (Conv2D)              (None, 1, 1, 1392)   82128       activation_71[0][0]              \n",
            "__________________________________________________________________________________________________\n",
            "activation_72 (Activation)      (None, 1, 1, 1392)   0           conv2d_77[0][0]                  \n",
            "__________________________________________________________________________________________________\n",
            "multiply_15 (Multiply)          (None, 4, 4, 1392)   0           activation_70[0][0]              \n",
            "                                                                 activation_72[0][0]              \n",
            "__________________________________________________________________________________________________\n",
            "conv2d_78 (Conv2D)              (None, 4, 4, 232)    322944      multiply_15[0][0]                \n",
            "__________________________________________________________________________________________________\n",
            "batch_normalization_62 (BatchNo (None, 4, 4, 232)    928         conv2d_78[0][0]                  \n",
            "__________________________________________________________________________________________________\n",
            "add_17 (Add)                    (None, 4, 4, 232)    0           add_16[0][0]                     \n",
            "                                                                 batch_normalization_62[0][0]     \n",
            "__________________________________________________________________________________________________\n",
            "conv2d_79 (Conv2D)              (None, 4, 4, 1392)   322944      add_17[0][0]                     \n",
            "__________________________________________________________________________________________________\n",
            "batch_normalization_63 (BatchNo (None, 4, 4, 1392)   5568        conv2d_79[0][0]                  \n",
            "__________________________________________________________________________________________________\n",
            "activation_73 (Activation)      (None, 4, 4, 1392)   0           batch_normalization_63[0][0]     \n",
            "__________________________________________________________________________________________________\n",
            "depthwise_conv2d_16 (DepthwiseC (None, 4, 4, 1392)   12528       activation_73[0][0]              \n",
            "__________________________________________________________________________________________________\n",
            "batch_normalization_64 (BatchNo (None, 4, 4, 1392)   5568        depthwise_conv2d_16[0][0]        \n",
            "__________________________________________________________________________________________________\n",
            "activation_74 (Activation)      (None, 4, 4, 1392)   0           batch_normalization_64[0][0]     \n",
            "__________________________________________________________________________________________________\n",
            "tf.math.reduce_mean_16 (TFOpLam (None, 1, 1, 1392)   0           activation_74[0][0]              \n",
            "__________________________________________________________________________________________________\n",
            "conv2d_80 (Conv2D)              (None, 1, 1, 58)     80794       tf.math.reduce_mean_16[0][0]     \n",
            "__________________________________________________________________________________________________\n",
            "activation_75 (Activation)      (None, 1, 1, 58)     0           conv2d_80[0][0]                  \n",
            "__________________________________________________________________________________________________\n",
            "conv2d_81 (Conv2D)              (None, 1, 1, 1392)   82128       activation_75[0][0]              \n",
            "__________________________________________________________________________________________________\n",
            "activation_76 (Activation)      (None, 1, 1, 1392)   0           conv2d_81[0][0]                  \n",
            "__________________________________________________________________________________________________\n",
            "multiply_16 (Multiply)          (None, 4, 4, 1392)   0           activation_74[0][0]              \n",
            "                                                                 activation_76[0][0]              \n",
            "__________________________________________________________________________________________________\n",
            "conv2d_82 (Conv2D)              (None, 4, 4, 232)    322944      multiply_16[0][0]                \n",
            "__________________________________________________________________________________________________\n",
            "batch_normalization_65 (BatchNo (None, 4, 4, 232)    928         conv2d_82[0][0]                  \n",
            "__________________________________________________________________________________________________\n",
            "add_18 (Add)                    (None, 4, 4, 232)    0           add_17[0][0]                     \n",
            "                                                                 batch_normalization_65[0][0]     \n",
            "__________________________________________________________________________________________________\n",
            "conv2d_83 (Conv2D)              (None, 4, 4, 1392)   322944      add_18[0][0]                     \n",
            "__________________________________________________________________________________________________\n",
            "batch_normalization_66 (BatchNo (None, 4, 4, 1392)   5568        conv2d_83[0][0]                  \n",
            "__________________________________________________________________________________________________\n",
            "activation_77 (Activation)      (None, 4, 4, 1392)   0           batch_normalization_66[0][0]     \n",
            "__________________________________________________________________________________________________\n",
            "depthwise_conv2d_17 (DepthwiseC (None, 4, 4, 1392)   12528       activation_77[0][0]              \n",
            "__________________________________________________________________________________________________\n",
            "batch_normalization_67 (BatchNo (None, 4, 4, 1392)   5568        depthwise_conv2d_17[0][0]        \n",
            "__________________________________________________________________________________________________\n",
            "activation_78 (Activation)      (None, 4, 4, 1392)   0           batch_normalization_67[0][0]     \n",
            "__________________________________________________________________________________________________\n",
            "tf.math.reduce_mean_17 (TFOpLam (None, 1, 1, 1392)   0           activation_78[0][0]              \n",
            "__________________________________________________________________________________________________\n",
            "conv2d_84 (Conv2D)              (None, 1, 1, 58)     80794       tf.math.reduce_mean_17[0][0]     \n",
            "__________________________________________________________________________________________________\n",
            "activation_79 (Activation)      (None, 1, 1, 58)     0           conv2d_84[0][0]                  \n",
            "__________________________________________________________________________________________________\n",
            "conv2d_85 (Conv2D)              (None, 1, 1, 1392)   82128       activation_79[0][0]              \n",
            "__________________________________________________________________________________________________\n",
            "activation_80 (Activation)      (None, 1, 1, 1392)   0           conv2d_85[0][0]                  \n",
            "__________________________________________________________________________________________________\n",
            "multiply_17 (Multiply)          (None, 4, 4, 1392)   0           activation_78[0][0]              \n",
            "                                                                 activation_80[0][0]              \n",
            "__________________________________________________________________________________________________\n",
            "conv2d_86 (Conv2D)              (None, 4, 4, 232)    322944      multiply_17[0][0]                \n",
            "__________________________________________________________________________________________________\n",
            "batch_normalization_68 (BatchNo (None, 4, 4, 232)    928         conv2d_86[0][0]                  \n",
            "__________________________________________________________________________________________________\n",
            "add_19 (Add)                    (None, 4, 4, 232)    0           add_18[0][0]                     \n",
            "                                                                 batch_normalization_68[0][0]     \n",
            "__________________________________________________________________________________________________\n",
            "conv2d_87 (Conv2D)              (None, 4, 4, 1392)   322944      add_19[0][0]                     \n",
            "__________________________________________________________________________________________________\n",
            "batch_normalization_69 (BatchNo (None, 4, 4, 1392)   5568        conv2d_87[0][0]                  \n",
            "__________________________________________________________________________________________________\n",
            "activation_81 (Activation)      (None, 4, 4, 1392)   0           batch_normalization_69[0][0]     \n",
            "__________________________________________________________________________________________________\n",
            "depthwise_conv2d_18 (DepthwiseC (None, 4, 4, 1392)   12528       activation_81[0][0]              \n",
            "__________________________________________________________________________________________________\n",
            "batch_normalization_70 (BatchNo (None, 4, 4, 1392)   5568        depthwise_conv2d_18[0][0]        \n",
            "__________________________________________________________________________________________________\n",
            "activation_82 (Activation)      (None, 4, 4, 1392)   0           batch_normalization_70[0][0]     \n",
            "__________________________________________________________________________________________________\n",
            "tf.math.reduce_mean_18 (TFOpLam (None, 1, 1, 1392)   0           activation_82[0][0]              \n",
            "__________________________________________________________________________________________________\n",
            "conv2d_88 (Conv2D)              (None, 1, 1, 58)     80794       tf.math.reduce_mean_18[0][0]     \n",
            "__________________________________________________________________________________________________\n",
            "activation_83 (Activation)      (None, 1, 1, 58)     0           conv2d_88[0][0]                  \n",
            "__________________________________________________________________________________________________\n",
            "conv2d_89 (Conv2D)              (None, 1, 1, 1392)   82128       activation_83[0][0]              \n",
            "__________________________________________________________________________________________________\n",
            "activation_84 (Activation)      (None, 1, 1, 1392)   0           conv2d_89[0][0]                  \n",
            "__________________________________________________________________________________________________\n",
            "multiply_18 (Multiply)          (None, 4, 4, 1392)   0           activation_82[0][0]              \n",
            "                                                                 activation_84[0][0]              \n",
            "__________________________________________________________________________________________________\n",
            "conv2d_90 (Conv2D)              (None, 4, 4, 232)    322944      multiply_18[0][0]                \n",
            "__________________________________________________________________________________________________\n",
            "batch_normalization_71 (BatchNo (None, 4, 4, 232)    928         conv2d_90[0][0]                  \n",
            "__________________________________________________________________________________________________\n",
            "add_20 (Add)                    (None, 4, 4, 232)    0           add_19[0][0]                     \n",
            "                                                                 batch_normalization_71[0][0]     \n",
            "__________________________________________________________________________________________________\n",
            "conv2d_91 (Conv2D)              (None, 4, 4, 1392)   322944      add_20[0][0]                     \n",
            "__________________________________________________________________________________________________\n",
            "batch_normalization_72 (BatchNo (None, 4, 4, 1392)   5568        conv2d_91[0][0]                  \n",
            "__________________________________________________________________________________________________\n",
            "activation_85 (Activation)      (None, 4, 4, 1392)   0           batch_normalization_72[0][0]     \n",
            "__________________________________________________________________________________________________\n",
            "depthwise_conv2d_19 (DepthwiseC (None, 4, 4, 1392)   12528       activation_85[0][0]              \n",
            "__________________________________________________________________________________________________\n",
            "batch_normalization_73 (BatchNo (None, 4, 4, 1392)   5568        depthwise_conv2d_19[0][0]        \n",
            "__________________________________________________________________________________________________\n",
            "activation_86 (Activation)      (None, 4, 4, 1392)   0           batch_normalization_73[0][0]     \n",
            "__________________________________________________________________________________________________\n",
            "tf.math.reduce_mean_19 (TFOpLam (None, 1, 1, 1392)   0           activation_86[0][0]              \n",
            "__________________________________________________________________________________________________\n",
            "conv2d_92 (Conv2D)              (None, 1, 1, 58)     80794       tf.math.reduce_mean_19[0][0]     \n",
            "__________________________________________________________________________________________________\n",
            "activation_87 (Activation)      (None, 1, 1, 58)     0           conv2d_92[0][0]                  \n",
            "__________________________________________________________________________________________________\n",
            "conv2d_93 (Conv2D)              (None, 1, 1, 1392)   82128       activation_87[0][0]              \n",
            "__________________________________________________________________________________________________\n",
            "activation_88 (Activation)      (None, 1, 1, 1392)   0           conv2d_93[0][0]                  \n",
            "__________________________________________________________________________________________________\n",
            "multiply_19 (Multiply)          (None, 4, 4, 1392)   0           activation_86[0][0]              \n",
            "                                                                 activation_88[0][0]              \n",
            "__________________________________________________________________________________________________\n",
            "conv2d_94 (Conv2D)              (None, 4, 4, 232)    322944      multiply_19[0][0]                \n",
            "__________________________________________________________________________________________________\n",
            "batch_normalization_74 (BatchNo (None, 4, 4, 232)    928         conv2d_94[0][0]                  \n",
            "__________________________________________________________________________________________________\n",
            "add_21 (Add)                    (None, 4, 4, 232)    0           add_20[0][0]                     \n",
            "                                                                 batch_normalization_74[0][0]     \n",
            "__________________________________________________________________________________________________\n",
            "conv2d_95 (Conv2D)              (None, 4, 4, 1392)   322944      add_21[0][0]                     \n",
            "__________________________________________________________________________________________________\n",
            "batch_normalization_75 (BatchNo (None, 4, 4, 1392)   5568        conv2d_95[0][0]                  \n",
            "__________________________________________________________________________________________________\n",
            "activation_89 (Activation)      (None, 4, 4, 1392)   0           batch_normalization_75[0][0]     \n",
            "__________________________________________________________________________________________________\n",
            "depthwise_conv2d_20 (DepthwiseC (None, 4, 4, 1392)   12528       activation_89[0][0]              \n",
            "__________________________________________________________________________________________________\n",
            "batch_normalization_76 (BatchNo (None, 4, 4, 1392)   5568        depthwise_conv2d_20[0][0]        \n",
            "__________________________________________________________________________________________________\n",
            "activation_90 (Activation)      (None, 4, 4, 1392)   0           batch_normalization_76[0][0]     \n",
            "__________________________________________________________________________________________________\n",
            "tf.math.reduce_mean_20 (TFOpLam (None, 1, 1, 1392)   0           activation_90[0][0]              \n",
            "__________________________________________________________________________________________________\n",
            "conv2d_96 (Conv2D)              (None, 1, 1, 58)     80794       tf.math.reduce_mean_20[0][0]     \n",
            "__________________________________________________________________________________________________\n",
            "activation_91 (Activation)      (None, 1, 1, 58)     0           conv2d_96[0][0]                  \n",
            "__________________________________________________________________________________________________\n",
            "conv2d_97 (Conv2D)              (None, 1, 1, 1392)   82128       activation_91[0][0]              \n",
            "__________________________________________________________________________________________________\n",
            "activation_92 (Activation)      (None, 1, 1, 1392)   0           conv2d_97[0][0]                  \n",
            "__________________________________________________________________________________________________\n",
            "multiply_20 (Multiply)          (None, 4, 4, 1392)   0           activation_90[0][0]              \n",
            "                                                                 activation_92[0][0]              \n",
            "__________________________________________________________________________________________________\n",
            "conv2d_98 (Conv2D)              (None, 4, 4, 232)    322944      multiply_20[0][0]                \n",
            "__________________________________________________________________________________________________\n",
            "batch_normalization_77 (BatchNo (None, 4, 4, 232)    928         conv2d_98[0][0]                  \n",
            "__________________________________________________________________________________________________\n",
            "add_22 (Add)                    (None, 4, 4, 232)    0           add_21[0][0]                     \n",
            "                                                                 batch_normalization_77[0][0]     \n",
            "__________________________________________________________________________________________________\n",
            "conv2d_99 (Conv2D)              (None, 4, 4, 1392)   322944      add_22[0][0]                     \n",
            "__________________________________________________________________________________________________\n",
            "batch_normalization_78 (BatchNo (None, 4, 4, 1392)   5568        conv2d_99[0][0]                  \n",
            "__________________________________________________________________________________________________\n",
            "activation_93 (Activation)      (None, 4, 4, 1392)   0           batch_normalization_78[0][0]     \n",
            "__________________________________________________________________________________________________\n",
            "depthwise_conv2d_21 (DepthwiseC (None, 4, 4, 1392)   12528       activation_93[0][0]              \n",
            "__________________________________________________________________________________________________\n",
            "batch_normalization_79 (BatchNo (None, 4, 4, 1392)   5568        depthwise_conv2d_21[0][0]        \n",
            "__________________________________________________________________________________________________\n",
            "activation_94 (Activation)      (None, 4, 4, 1392)   0           batch_normalization_79[0][0]     \n",
            "__________________________________________________________________________________________________\n",
            "tf.math.reduce_mean_21 (TFOpLam (None, 1, 1, 1392)   0           activation_94[0][0]              \n",
            "__________________________________________________________________________________________________\n",
            "conv2d_100 (Conv2D)             (None, 1, 1, 58)     80794       tf.math.reduce_mean_21[0][0]     \n",
            "__________________________________________________________________________________________________\n",
            "activation_95 (Activation)      (None, 1, 1, 58)     0           conv2d_100[0][0]                 \n",
            "__________________________________________________________________________________________________\n",
            "conv2d_101 (Conv2D)             (None, 1, 1, 1392)   82128       activation_95[0][0]              \n",
            "__________________________________________________________________________________________________\n",
            "activation_96 (Activation)      (None, 1, 1, 1392)   0           conv2d_101[0][0]                 \n",
            "__________________________________________________________________________________________________\n",
            "multiply_21 (Multiply)          (None, 4, 4, 1392)   0           activation_94[0][0]              \n",
            "                                                                 activation_96[0][0]              \n",
            "__________________________________________________________________________________________________\n",
            "conv2d_102 (Conv2D)             (None, 4, 4, 232)    322944      multiply_21[0][0]                \n",
            "__________________________________________________________________________________________________\n",
            "batch_normalization_80 (BatchNo (None, 4, 4, 232)    928         conv2d_102[0][0]                 \n",
            "__________________________________________________________________________________________________\n",
            "add_23 (Add)                    (None, 4, 4, 232)    0           add_22[0][0]                     \n",
            "                                                                 batch_normalization_80[0][0]     \n",
            "__________________________________________________________________________________________________\n",
            "conv2d_103 (Conv2D)             (None, 4, 4, 1392)   322944      add_23[0][0]                     \n",
            "__________________________________________________________________________________________________\n",
            "batch_normalization_81 (BatchNo (None, 4, 4, 1392)   5568        conv2d_103[0][0]                 \n",
            "__________________________________________________________________________________________________\n",
            "activation_97 (Activation)      (None, 4, 4, 1392)   0           batch_normalization_81[0][0]     \n",
            "__________________________________________________________________________________________________\n",
            "depthwise_conv2d_22 (DepthwiseC (None, 4, 4, 1392)   12528       activation_97[0][0]              \n",
            "__________________________________________________________________________________________________\n",
            "batch_normalization_82 (BatchNo (None, 4, 4, 1392)   5568        depthwise_conv2d_22[0][0]        \n",
            "__________________________________________________________________________________________________\n",
            "activation_98 (Activation)      (None, 4, 4, 1392)   0           batch_normalization_82[0][0]     \n",
            "__________________________________________________________________________________________________\n",
            "tf.math.reduce_mean_22 (TFOpLam (None, 1, 1, 1392)   0           activation_98[0][0]              \n",
            "__________________________________________________________________________________________________\n",
            "conv2d_104 (Conv2D)             (None, 1, 1, 58)     80794       tf.math.reduce_mean_22[0][0]     \n",
            "__________________________________________________________________________________________________\n",
            "activation_99 (Activation)      (None, 1, 1, 58)     0           conv2d_104[0][0]                 \n",
            "__________________________________________________________________________________________________\n",
            "conv2d_105 (Conv2D)             (None, 1, 1, 1392)   82128       activation_99[0][0]              \n",
            "__________________________________________________________________________________________________\n",
            "activation_100 (Activation)     (None, 1, 1, 1392)   0           conv2d_105[0][0]                 \n",
            "__________________________________________________________________________________________________\n",
            "multiply_22 (Multiply)          (None, 4, 4, 1392)   0           activation_98[0][0]              \n",
            "                                                                 activation_100[0][0]             \n",
            "__________________________________________________________________________________________________\n",
            "conv2d_106 (Conv2D)             (None, 4, 4, 232)    322944      multiply_22[0][0]                \n",
            "__________________________________________________________________________________________________\n",
            "batch_normalization_83 (BatchNo (None, 4, 4, 232)    928         conv2d_106[0][0]                 \n",
            "__________________________________________________________________________________________________\n",
            "add_24 (Add)                    (None, 4, 4, 232)    0           add_23[0][0]                     \n",
            "                                                                 batch_normalization_83[0][0]     \n",
            "__________________________________________________________________________________________________\n",
            "conv2d_107 (Conv2D)             (None, 4, 4, 1392)   322944      add_24[0][0]                     \n",
            "__________________________________________________________________________________________________\n",
            "batch_normalization_84 (BatchNo (None, 4, 4, 1392)   5568        conv2d_107[0][0]                 \n",
            "__________________________________________________________________________________________________\n",
            "activation_101 (Activation)     (None, 4, 4, 1392)   0           batch_normalization_84[0][0]     \n",
            "__________________________________________________________________________________________________\n",
            "depthwise_conv2d_23 (DepthwiseC (None, 4, 4, 1392)   12528       activation_101[0][0]             \n",
            "__________________________________________________________________________________________________\n",
            "batch_normalization_85 (BatchNo (None, 4, 4, 1392)   5568        depthwise_conv2d_23[0][0]        \n",
            "__________________________________________________________________________________________________\n",
            "activation_102 (Activation)     (None, 4, 4, 1392)   0           batch_normalization_85[0][0]     \n",
            "__________________________________________________________________________________________________\n",
            "tf.math.reduce_mean_23 (TFOpLam (None, 1, 1, 1392)   0           activation_102[0][0]             \n",
            "__________________________________________________________________________________________________\n",
            "conv2d_108 (Conv2D)             (None, 1, 1, 58)     80794       tf.math.reduce_mean_23[0][0]     \n",
            "__________________________________________________________________________________________________\n",
            "activation_103 (Activation)     (None, 1, 1, 58)     0           conv2d_108[0][0]                 \n",
            "__________________________________________________________________________________________________\n",
            "conv2d_109 (Conv2D)             (None, 1, 1, 1392)   82128       activation_103[0][0]             \n",
            "__________________________________________________________________________________________________\n",
            "activation_104 (Activation)     (None, 1, 1, 1392)   0           conv2d_109[0][0]                 \n",
            "__________________________________________________________________________________________________\n",
            "multiply_23 (Multiply)          (None, 4, 4, 1392)   0           activation_102[0][0]             \n",
            "                                                                 activation_104[0][0]             \n",
            "__________________________________________________________________________________________________\n",
            "conv2d_110 (Conv2D)             (None, 4, 4, 232)    322944      multiply_23[0][0]                \n",
            "__________________________________________________________________________________________________\n",
            "batch_normalization_86 (BatchNo (None, 4, 4, 232)    928         conv2d_110[0][0]                 \n",
            "__________________________________________________________________________________________________\n",
            "add_25 (Add)                    (None, 4, 4, 232)    0           add_24[0][0]                     \n",
            "                                                                 batch_normalization_86[0][0]     \n",
            "__________________________________________________________________________________________________\n",
            "conv2d_111 (Conv2D)             (None, 4, 4, 1536)   356352      add_25[0][0]                     \n",
            "__________________________________________________________________________________________________\n",
            "batch_normalization_87 (BatchNo (None, 4, 4, 1536)   6144        conv2d_111[0][0]                 \n",
            "__________________________________________________________________________________________________\n",
            "activation_105 (Activation)     (None, 4, 4, 1536)   0           batch_normalization_87[0][0]     \n",
            "__________________________________________________________________________________________________\n",
            "avg_pool (GlobalAveragePooling2 (None, 1536)         0           activation_105[0][0]             \n",
            "__________________________________________________________________________________________________\n",
            "dropout (Dropout)               (None, 1536)         0           avg_pool[0][0]                   \n",
            "__________________________________________________________________________________________________\n",
            "predictions (Dense)             (None, 4)            6148        dropout[0][0]                    \n",
            "==================================================================================================\n",
            "Total params: 12,936,770\n",
            "Trainable params: 12,827,554\n",
            "Non-trainable params: 109,216\n",
            "__________________________________________________________________________________________________\n"
          ],
          "name": "stdout"
        }
      ]
    },
    {
      "cell_type": "code",
      "metadata": {
        "colab": {
          "base_uri": "https://localhost:8080/"
        },
        "id": "YIBk0oTWkTAN",
        "outputId": "255f16c9-2c29-4b87-b4b8-ade7653ae1b1"
      },
      "source": [
        "print(len(model.layers))"
      ],
      "execution_count": 28,
      "outputs": [
        {
          "output_type": "stream",
          "text": [
            "408\n"
          ],
          "name": "stdout"
        }
      ]
    },
    {
      "cell_type": "code",
      "metadata": {
        "colab": {
          "base_uri": "https://localhost:8080/"
        },
        "id": "WViysE4Q2By5",
        "outputId": "87c4a959-8d09-486b-dc6d-1d3651296406"
      },
      "source": [
        "model.compile(optimizer = \"adam\" , \n",
        "               loss = 'sparse_categorical_crossentropy' , \n",
        "               metrics = ['accuracy'])\n",
        "# model.summary()\n",
        "\n",
        "callback1 = ModelCheckpoint(filepath='best_model.hdf5', save_best_only=True, save_weights_only=False)\n",
        "callback2 = EarlyStopping(monitor='val_loss', min_delta=0.1, patience=3, verbose = 1, mode='min', restore_best_weights = True)\n",
        "callback3 = ReduceLROnPlateau(\n",
        "    monitor = 'val_accuracy', \n",
        "    patience = 2, \n",
        "    verbose = 1, \n",
        "    factor = 0.3, \n",
        "    min_lr = 0.000001)\n",
        "\n",
        "history = model.fit(\n",
        "    train_images, \n",
        "    train_labels, \n",
        "    batch_size = 32, \n",
        "    epochs = EPOCHS, \n",
        "    validation_data=(val_images, val_labels), \n",
        "    callbacks=[callback1, callback3]\n",
        "    )"
      ],
      "execution_count": 30,
      "outputs": [
        {
          "output_type": "stream",
          "text": [
            "Epoch 1/50\n",
            "304/304 [==============================] - 58s 156ms/step - loss: 0.4512 - accuracy: 0.8369 - val_loss: 0.4669 - val_accuracy: 0.8230\n"
          ],
          "name": "stdout"
        },
        {
          "output_type": "stream",
          "text": [
            "/usr/local/lib/python3.7/dist-packages/tensorflow/python/keras/utils/generic_utils.py:497: CustomMaskWarning: Custom mask layers require a config and must override get_config. When loading, the custom mask layer must be passed to the custom_objects argument.\n",
            "  category=CustomMaskWarning)\n"
          ],
          "name": "stderr"
        },
        {
          "output_type": "stream",
          "text": [
            "Epoch 2/50\n",
            "304/304 [==============================] - 45s 148ms/step - loss: 0.2603 - accuracy: 0.9066 - val_loss: 0.2904 - val_accuracy: 0.9037\n",
            "Epoch 3/50\n",
            "304/304 [==============================] - 44s 144ms/step - loss: 0.1761 - accuracy: 0.9338 - val_loss: 0.4957 - val_accuracy: 0.8469\n",
            "Epoch 4/50\n",
            "304/304 [==============================] - 44s 144ms/step - loss: 0.1504 - accuracy: 0.9446 - val_loss: 0.2431 - val_accuracy: 0.9111\n",
            "Epoch 5/50\n",
            "304/304 [==============================] - 44s 144ms/step - loss: 0.1375 - accuracy: 0.9505 - val_loss: 0.2305 - val_accuracy: 0.9078\n",
            "Epoch 6/50\n",
            "304/304 [==============================] - 45s 148ms/step - loss: 0.0872 - accuracy: 0.9696 - val_loss: 0.3221 - val_accuracy: 0.8905\n",
            "\n",
            "Epoch 00006: ReduceLROnPlateau reducing learning rate to 0.0003000000142492354.\n",
            "Epoch 7/50\n",
            "304/304 [==============================] - 44s 144ms/step - loss: 0.0369 - accuracy: 0.9865 - val_loss: 0.0749 - val_accuracy: 0.9745\n",
            "Epoch 8/50\n",
            "304/304 [==============================] - 44s 144ms/step - loss: 0.0274 - accuracy: 0.9901 - val_loss: 0.0716 - val_accuracy: 0.9737\n",
            "Epoch 9/50\n",
            "304/304 [==============================] - 44s 144ms/step - loss: 0.0255 - accuracy: 0.9905 - val_loss: 0.0737 - val_accuracy: 0.9695\n",
            "\n",
            "Epoch 00009: ReduceLROnPlateau reducing learning rate to 9.000000427477062e-05.\n",
            "Epoch 10/50\n",
            "304/304 [==============================] - 44s 143ms/step - loss: 0.0140 - accuracy: 0.9953 - val_loss: 0.0581 - val_accuracy: 0.9786\n",
            "Epoch 11/50\n",
            "304/304 [==============================] - 44s 144ms/step - loss: 0.0094 - accuracy: 0.9958 - val_loss: 0.0743 - val_accuracy: 0.9778\n",
            "Epoch 12/50\n",
            "304/304 [==============================] - 44s 144ms/step - loss: 0.0105 - accuracy: 0.9964 - val_loss: 0.0709 - val_accuracy: 0.9761\n",
            "\n",
            "Epoch 00012: ReduceLROnPlateau reducing learning rate to 2.700000040931627e-05.\n",
            "Epoch 13/50\n",
            "304/304 [==============================] - 45s 148ms/step - loss: 0.0077 - accuracy: 0.9965 - val_loss: 0.0682 - val_accuracy: 0.9786\n",
            "Epoch 14/50\n",
            "304/304 [==============================] - 44s 145ms/step - loss: 0.0072 - accuracy: 0.9971 - val_loss: 0.0673 - val_accuracy: 0.9786\n",
            "\n",
            "Epoch 00014: ReduceLROnPlateau reducing learning rate to 8.100000013655517e-06.\n",
            "Epoch 15/50\n",
            "304/304 [==============================] - 45s 148ms/step - loss: 0.0077 - accuracy: 0.9970 - val_loss: 0.0693 - val_accuracy: 0.9811\n",
            "Epoch 16/50\n",
            "304/304 [==============================] - 44s 144ms/step - loss: 0.0060 - accuracy: 0.9977 - val_loss: 0.0638 - val_accuracy: 0.9786\n",
            "Epoch 17/50\n",
            "304/304 [==============================] - 44s 144ms/step - loss: 0.0060 - accuracy: 0.9971 - val_loss: 0.0648 - val_accuracy: 0.9786\n",
            "\n",
            "Epoch 00017: ReduceLROnPlateau reducing learning rate to 2.429999949526973e-06.\n",
            "Epoch 18/50\n",
            "304/304 [==============================] - 44s 144ms/step - loss: 0.0056 - accuracy: 0.9974 - val_loss: 0.0669 - val_accuracy: 0.9786\n",
            "Epoch 19/50\n",
            "304/304 [==============================] - 44s 144ms/step - loss: 0.0069 - accuracy: 0.9973 - val_loss: 0.0667 - val_accuracy: 0.9753\n",
            "\n",
            "Epoch 00019: ReduceLROnPlateau reducing learning rate to 1e-06.\n",
            "Epoch 20/50\n",
            "304/304 [==============================] - 44s 144ms/step - loss: 0.0052 - accuracy: 0.9977 - val_loss: 0.0686 - val_accuracy: 0.9770\n",
            "Epoch 21/50\n",
            "304/304 [==============================] - 44s 145ms/step - loss: 0.0055 - accuracy: 0.9976 - val_loss: 0.0698 - val_accuracy: 0.9778\n",
            "Epoch 22/50\n",
            "304/304 [==============================] - 44s 144ms/step - loss: 0.0064 - accuracy: 0.9973 - val_loss: 0.0666 - val_accuracy: 0.9786\n",
            "Epoch 23/50\n",
            "304/304 [==============================] - 44s 144ms/step - loss: 0.0055 - accuracy: 0.9976 - val_loss: 0.0665 - val_accuracy: 0.9794\n",
            "Epoch 24/50\n",
            "304/304 [==============================] - 44s 144ms/step - loss: 0.0058 - accuracy: 0.9975 - val_loss: 0.0673 - val_accuracy: 0.9802\n",
            "Epoch 25/50\n",
            "304/304 [==============================] - 44s 144ms/step - loss: 0.0057 - accuracy: 0.9972 - val_loss: 0.0688 - val_accuracy: 0.9786\n",
            "Epoch 26/50\n",
            "304/304 [==============================] - 45s 148ms/step - loss: 0.0055 - accuracy: 0.9976 - val_loss: 0.0683 - val_accuracy: 0.9778\n",
            "Epoch 27/50\n",
            "304/304 [==============================] - 44s 144ms/step - loss: 0.0052 - accuracy: 0.9985 - val_loss: 0.0674 - val_accuracy: 0.9761\n",
            "Epoch 28/50\n",
            "304/304 [==============================] - 45s 148ms/step - loss: 0.0089 - accuracy: 0.9968 - val_loss: 0.0663 - val_accuracy: 0.9778\n",
            "Epoch 29/50\n",
            "304/304 [==============================] - 45s 148ms/step - loss: 0.0090 - accuracy: 0.9967 - val_loss: 0.0686 - val_accuracy: 0.9786\n",
            "Epoch 30/50\n",
            "304/304 [==============================] - 44s 144ms/step - loss: 0.0062 - accuracy: 0.9979 - val_loss: 0.0627 - val_accuracy: 0.9786\n",
            "Epoch 31/50\n",
            "304/304 [==============================] - 45s 148ms/step - loss: 0.0056 - accuracy: 0.9975 - val_loss: 0.0672 - val_accuracy: 0.9770\n",
            "Epoch 32/50\n",
            "304/304 [==============================] - 44s 144ms/step - loss: 0.0073 - accuracy: 0.9970 - val_loss: 0.0709 - val_accuracy: 0.9770\n",
            "Epoch 33/50\n",
            "304/304 [==============================] - 44s 144ms/step - loss: 0.0050 - accuracy: 0.9980 - val_loss: 0.0672 - val_accuracy: 0.9778\n",
            "Epoch 34/50\n",
            "304/304 [==============================] - 44s 144ms/step - loss: 0.0058 - accuracy: 0.9976 - val_loss: 0.0658 - val_accuracy: 0.9778\n",
            "Epoch 35/50\n",
            "304/304 [==============================] - 44s 144ms/step - loss: 0.0058 - accuracy: 0.9976 - val_loss: 0.0663 - val_accuracy: 0.9786\n",
            "Epoch 36/50\n",
            "304/304 [==============================] - 44s 144ms/step - loss: 0.0055 - accuracy: 0.9974 - val_loss: 0.0666 - val_accuracy: 0.9761\n",
            "Epoch 37/50\n",
            "304/304 [==============================] - 44s 144ms/step - loss: 0.0054 - accuracy: 0.9974 - val_loss: 0.0691 - val_accuracy: 0.9786\n",
            "Epoch 38/50\n",
            "304/304 [==============================] - 45s 148ms/step - loss: 0.0061 - accuracy: 0.9975 - val_loss: 0.0666 - val_accuracy: 0.9761\n",
            "Epoch 39/50\n",
            "304/304 [==============================] - 44s 144ms/step - loss: 0.0081 - accuracy: 0.9974 - val_loss: 0.0644 - val_accuracy: 0.9778\n",
            "Epoch 40/50\n",
            "304/304 [==============================] - 44s 144ms/step - loss: 0.0054 - accuracy: 0.9975 - val_loss: 0.0704 - val_accuracy: 0.9770\n",
            "Epoch 41/50\n",
            "304/304 [==============================] - 44s 144ms/step - loss: 0.0059 - accuracy: 0.9975 - val_loss: 0.0635 - val_accuracy: 0.9802\n",
            "Epoch 42/50\n",
            "304/304 [==============================] - 44s 144ms/step - loss: 0.0057 - accuracy: 0.9973 - val_loss: 0.0664 - val_accuracy: 0.9770\n",
            "Epoch 43/50\n",
            "304/304 [==============================] - 45s 149ms/step - loss: 0.0058 - accuracy: 0.9976 - val_loss: 0.0644 - val_accuracy: 0.9811\n",
            "Epoch 44/50\n",
            "304/304 [==============================] - 45s 149ms/step - loss: 0.0051 - accuracy: 0.9976 - val_loss: 0.0685 - val_accuracy: 0.9778\n",
            "Epoch 45/50\n",
            "304/304 [==============================] - 45s 148ms/step - loss: 0.0055 - accuracy: 0.9983 - val_loss: 0.0651 - val_accuracy: 0.9786\n",
            "Epoch 46/50\n",
            "304/304 [==============================] - 44s 144ms/step - loss: 0.0061 - accuracy: 0.9968 - val_loss: 0.0721 - val_accuracy: 0.9770\n",
            "Epoch 47/50\n",
            "304/304 [==============================] - 44s 144ms/step - loss: 0.0051 - accuracy: 0.9977 - val_loss: 0.0675 - val_accuracy: 0.9770\n",
            "Epoch 48/50\n",
            "304/304 [==============================] - 44s 144ms/step - loss: 0.0057 - accuracy: 0.9975 - val_loss: 0.0672 - val_accuracy: 0.9778\n",
            "Epoch 49/50\n",
            "304/304 [==============================] - 45s 148ms/step - loss: 0.0052 - accuracy: 0.9972 - val_loss: 0.0703 - val_accuracy: 0.9770\n",
            "Epoch 50/50\n",
            "304/304 [==============================] - 45s 148ms/step - loss: 0.0056 - accuracy: 0.9973 - val_loss: 0.0675 - val_accuracy: 0.9778\n"
          ],
          "name": "stdout"
        }
      ]
    },
    {
      "cell_type": "code",
      "metadata": {
        "id": "BawWF4c5XvbA"
      },
      "source": [
        "def plot_accuracy_loss_chart(history):\n",
        "    epochs = [i for i in range(EPOCHS)]\n",
        "    fig , ax = plt.subplots(1,2)\n",
        "    train_acc = history.history['accuracy']\n",
        "    train_loss = history.history['loss']\n",
        "    val_acc = history.history['val_accuracy']\n",
        "    val_loss = history.history['val_loss']\n",
        "    fig.set_size_inches(20,10)\n",
        "    ax[0].plot(epochs , train_acc , 'go-' , label = 'Training Accuracy')\n",
        "    ax[0].plot(epochs , val_acc , 'ro-' , label = 'Validation Accuracy')\n",
        "    ax[0].set_title('Training & Validation Accuracy')\n",
        "    ax[0].legend()\n",
        "    ax[0].set_xlabel(\"Epochs\")\n",
        "    ax[0].set_ylabel(\"Accuracy\")\n",
        "\n",
        "    ax[1].plot(epochs , train_loss , 'g-o' , label = 'Training Loss')\n",
        "    ax[1].plot(epochs , val_loss , 'r-o' , label = 'Validation Loss')\n",
        "    ax[1].set_title('Training & Validation Loss')\n",
        "    ax[1].legend()\n",
        "    ax[1].set_xlabel(\"Epochs\")\n",
        "    ax[1].set_ylabel(\"Training & Validation Loss\")\n",
        "    plt.show()\n"
      ],
      "execution_count": 31,
      "outputs": []
    },
    {
      "cell_type": "code",
      "metadata": {
        "colab": {
          "base_uri": "https://localhost:8080/",
          "height": 604
        },
        "id": "4narSj_0XzZb",
        "outputId": "cd54474e-e4f5-4f1f-fe3c-4085b3caed0b"
      },
      "source": [
        "plot_accuracy_loss_chart(history)"
      ],
      "execution_count": 32,
      "outputs": [
        {
          "output_type": "display_data",
          "data": {
            "image/png": "[encoded data removed]",
            "text/plain": [
              "<Figure size 1440x720 with 2 Axes>"
            ]
          },
          "metadata": {
            "tags": [],
            "needs_background": "light"
          }
        }
      ]
    },
    {
      "cell_type": "code",
      "metadata": {
        "id": "FE26pWCoX4Po",
        "colab": {
          "base_uri": "https://localhost:8080/"
        },
        "outputId": "697f9b7e-7428-4cd7-d057-b8a5cb601cb2"
      },
      "source": [
        "results = model.evaluate(test_images, test_labels)\n",
        "\n",
        "print(\"Loss of test model is  \", results[0])\n",
        "print(\"Accuracy of test model is \", results[1]*100, \"%\")\n",
        "\n",
        "\n",
        "results = model.evaluate(val_images, val_labels)\n",
        "\n",
        "print(\"Loss of validation model is \", results[0])\n",
        "print(\"Accuracy of validation model is \", results[1]*100, \"%\")\n",
        "\n",
        "results = model.evaluate(train_images, train_labels)\n",
        "\n",
        "print(\"Loss of train model  is \", results[0])\n",
        "print(\"Accuracy of train model is \", results[1]*100, \"%\")"
      ],
      "execution_count": 34,
      "outputs": [
        {
          "output_type": "stream",
          "text": [
            "38/38 [==============================] - 2s 41ms/step - loss: 0.0327 - accuracy: 0.9885\n",
            "Loss of test model is   0.03268973529338837\n",
            "Accuracy of test model is  98.8477349281311 %\n",
            "38/38 [==============================] - 1s 38ms/step - loss: 0.0675 - accuracy: 0.9778\n",
            "Loss of validation model is  0.06754099577665329\n",
            "Accuracy of validation model is  97.77777791023254 %\n",
            "304/304 [==============================] - 12s 38ms/step - loss: 0.0043 - accuracy: 0.9983\n",
            "Loss of train model  is  0.004282092675566673\n",
            "Accuracy of train model is  99.82503056526184 %\n"
          ],
          "name": "stdout"
        }
      ]
    },
    {
      "cell_type": "code",
      "metadata": {
        "id": "L0pT58OzX-sL",
        "colab": {
          "base_uri": "https://localhost:8080/"
        },
        "outputId": "ef4eaa59-28d5-4ccc-8a3e-d7884b1f8898"
      },
      "source": [
        "from sklearn.metrics import classification_report\n",
        "\n",
        "predictions = model.predict(test_images)\n",
        "predictions = np.argmax(predictions,axis=1)\n",
        "predictions[:15]"
      ],
      "execution_count": 36,
      "outputs": [
        {
          "output_type": "execute_result",
          "data": {
            "text/plain": [
              "array([0, 3, 1, 1, 0, 2, 2, 3, 1, 2, 1, 2, 1, 3, 1])"
            ]
          },
          "metadata": {
            "tags": []
          },
          "execution_count": 36
        }
      ]
    },
    {
      "cell_type": "code",
      "metadata": {
        "id": "VcIppIdzYAz8",
        "colab": {
          "base_uri": "https://localhost:8080/"
        },
        "outputId": "0d80e3d7-f8ba-413e-dcf2-56bbb1f911c0"
      },
      "source": [
        "print(classification_report(\n",
        "    test_labels, \n",
        "    predictions, \n",
        "    target_names = ['EOSINOPHIL (Nhom 0)', 'LYMPHOCYTE (Nhom 1)', 'MONOCYTE (Nhom 2)', 'NEUTROPHIL (Nhom 3)']))"
      ],
      "execution_count": 37,
      "outputs": [
        {
          "output_type": "stream",
          "text": [
            "                     precision    recall  f1-score   support\n",
            "\n",
            "EOSINOPHIL (Nhom 0)       0.98      0.98      0.98       291\n",
            "LYMPHOCYTE (Nhom 1)       1.00      1.00      1.00       301\n",
            "  MONOCYTE (Nhom 2)       0.99      0.99      0.99       308\n",
            "NEUTROPHIL (Nhom 3)       0.99      0.99      0.99       315\n",
            "\n",
            "           accuracy                           0.99      1215\n",
            "          macro avg       0.99      0.99      0.99      1215\n",
            "       weighted avg       0.99      0.99      0.99      1215\n",
            "\n"
          ],
          "name": "stdout"
        }
      ]
    },
    {
      "cell_type": "code",
      "metadata": {
        "id": "cdJWGyhJYEoG",
        "colab": {
          "base_uri": "https://localhost:8080/",
          "height": 166
        },
        "outputId": "62247938-f5ff-4fef-b793-f4be946f5d5b"
      },
      "source": [
        "cm = confusion_matrix(test_labels, predictions)\n",
        "cm = pd.DataFrame(cm, index = ['0', '1', '2', '3'], columns = ['0', '1', '2', '3'])\n",
        "cm"
      ],
      "execution_count": 38,
      "outputs": [
        {
          "output_type": "execute_result",
          "data": {
            "text/html": [
              "<div>\n",
              "<style scoped>\n",
              "    .dataframe tbody tr th:only-of-type {\n",
              "        vertical-align: middle;\n",
              "    }\n",
              "\n",
              "    .dataframe tbody tr th {\n",
              "        vertical-align: top;\n",
              "    }\n",
              "\n",
              "    .dataframe thead th {\n",
              "        text-align: right;\n",
              "    }\n",
              "</style>\n",
              "<table border=\"1\" class=\"dataframe\">\n",
              "  <thead>\n",
              "    <tr style=\"text-align: right;\">\n",
              "      <th></th>\n",
              "      <th>0</th>\n",
              "      <th>1</th>\n",
              "      <th>2</th>\n",
              "      <th>3</th>\n",
              "    </tr>\n",
              "  </thead>\n",
              "  <tbody>\n",
              "    <tr>\n",
              "      <th>0</th>\n",
              "      <td>285</td>\n",
              "      <td>0</td>\n",
              "      <td>4</td>\n",
              "      <td>2</td>\n",
              "    </tr>\n",
              "    <tr>\n",
              "      <th>1</th>\n",
              "      <td>0</td>\n",
              "      <td>301</td>\n",
              "      <td>0</td>\n",
              "      <td>0</td>\n",
              "    </tr>\n",
              "    <tr>\n",
              "      <th>2</th>\n",
              "      <td>3</td>\n",
              "      <td>0</td>\n",
              "      <td>304</td>\n",
              "      <td>1</td>\n",
              "    </tr>\n",
              "    <tr>\n",
              "      <th>3</th>\n",
              "      <td>4</td>\n",
              "      <td>0</td>\n",
              "      <td>0</td>\n",
              "      <td>311</td>\n",
              "    </tr>\n",
              "  </tbody>\n",
              "</table>\n",
              "</div>"
            ],
            "text/plain": [
              "     0    1    2    3\n",
              "0  285    0    4    2\n",
              "1    0  301    0    0\n",
              "2    3    0  304    1\n",
              "3    4    0    0  311"
            ]
          },
          "metadata": {
            "tags": []
          },
          "execution_count": 38
        }
      ]
    },
    {
      "cell_type": "code",
      "metadata": {
        "id": "WovW0OfFHOV3",
        "colab": {
          "base_uri": "https://localhost:8080/",
          "height": 592
        },
        "outputId": "1eaad673-fc88-4fb4-b9fc-933f70175271"
      },
      "source": [
        "def plot_confusion_matrix (cm):\n",
        "    plt.figure(figsize = (10,10))\n",
        "    sns.heatmap(\n",
        "        cm, \n",
        "        cmap = 'Blues', \n",
        "        linecolor = 'black', \n",
        "        linewidth = 1, \n",
        "        annot = True, \n",
        "        fmt = '', \n",
        "        xticklabels = class_names, \n",
        "        yticklabels = class_names)\n",
        "    \n",
        "plot_confusion_matrix(cm)"
      ],
      "execution_count": 39,
      "outputs": [
        {
          "output_type": "display_data",
          "data": {
            "image/png": "[encoded data removed]",
            "text/plain": [
              "<Figure size 720x720 with 2 Axes>"
            ]
          },
          "metadata": {
            "tags": [],
            "needs_background": "light"
          }
        }
      ]
    }
  ]
}